{
 "cells": [
  {
   "cell_type": "code",
   "execution_count": null,
   "metadata": {},
   "outputs": [],
   "source": [
    "from Code.SpreadsheetsManager import SpreadsheetsManager\n",
    "\n",
    "filepath = \"Files/Edges.xlsx\"\n",
    "sm = SpreadsheetsManager(filepath)\n",
    "\n",
    "output = sm.update_memo()"
   ]
  },
  {
   "cell_type": "code",
   "execution_count": 2,
   "metadata": {},
   "outputs": [],
   "source": [
    "import pandas as pd\n",
    "\n",
    "# Data as a list of lists, exactly as specified.\n",
    "data = [\n",
    "    [\"\", \"UB\", \"UL\", \"UR\"],\n",
    "    [\"UB\", \"\", \"Bat\", \"Czas\"],\n",
    "    [\"UL\", \"Arbuz\", \"\", \"Cable\"],\n",
    "    [\"UR\", \"Acid\", \"Baca\", \"\"]\n",
    "]\n",
    "\n",
    "# Create a DataFrame from the data.\n",
    "df = pd.DataFrame(data)\n",
    "\n",
    "# Write the DataFrame to an Excel file.\n",
    "# Setting index=False and header=False ensures that we don't add extra row/column labels.\n",
    "output_file = \"debug.xlsx\"\n",
    "df.to_excel(output_file, index=False, header=False)"
   ]
  },
  {
   "cell_type": "code",
   "execution_count": null,
   "metadata": {},
   "outputs": [],
   "source": []
  }
 ],
 "metadata": {
  "kernelspec": {
   "display_name": "venv",
   "language": "python",
   "name": "python3"
  },
  "language_info": {
   "codemirror_mode": {
    "name": "ipython",
    "version": 3
   },
   "file_extension": ".py",
   "mimetype": "text/x-python",
   "name": "python",
   "nbconvert_exporter": "python",
   "pygments_lexer": "ipython3",
   "version": "3.12.3"
  }
 },
 "nbformat": 4,
 "nbformat_minor": 2
}
