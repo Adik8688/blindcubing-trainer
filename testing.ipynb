{
 "cells": [
  {
   "cell_type": "code",
   "execution_count": 1,
   "metadata": {},
   "outputs": [
    {
     "name": "stdout",
     "output_type": "stream",
     "text": [
      "Sheet name must contain both a piece type and a buffer, separated by space.\n",
      "Sheet name must contain both a piece type and a buffer, separated by space.\n",
      "Sheet name must contain both a piece type and a buffer, separated by space.\n",
      "Sheet name must contain both a piece type and a buffer, separated by space.\n",
      "Sheet name must contain both a piece type and a buffer, separated by space.\n",
      "Sheet name must contain both a piece type and a buffer, separated by space.\n",
      "Sheet name must contain both a piece type and a buffer, separated by space.\n",
      "Sheet name must contain both a piece type and a buffer, separated by space.\n"
     ]
    },
    {
     "ename": "IndexError",
     "evalue": "list index out of range",
     "output_type": "error",
     "traceback": [
      "\u001b[1;31m---------------------------------------------------------------------------\u001b[0m",
      "\u001b[1;31mIndexError\u001b[0m                                Traceback (most recent call last)",
      "Cell \u001b[1;32mIn[1], line 6\u001b[0m\n\u001b[0;32m      3\u001b[0m filepath \u001b[38;5;241m=\u001b[39m \u001b[38;5;124m\"\u001b[39m\u001b[38;5;124mFiles/Edges.xlsx\u001b[39m\u001b[38;5;124m\"\u001b[39m\n\u001b[0;32m      4\u001b[0m sm \u001b[38;5;241m=\u001b[39m SpreadsheetsManager(filepath)\n\u001b[1;32m----> 6\u001b[0m output \u001b[38;5;241m=\u001b[39m \u001b[43msm\u001b[49m\u001b[38;5;241;43m.\u001b[39;49m\u001b[43mupdate_algs\u001b[49m\u001b[43m(\u001b[49m\u001b[43m)\u001b[49m\n",
      "File \u001b[1;32me:\\blindcubing-trainer\\blindcubing-trainer\\Code\\SpreadsheetsManager.py:204\u001b[0m, in \u001b[0;36mSpreadsheetsManager.update_algs\u001b[1;34m(self)\u001b[0m\n\u001b[0;32m    202\u001b[0m         data[key][\u001b[38;5;124m\"\u001b[39m\u001b[38;5;124mlatest\u001b[39m\u001b[38;5;124m\"\u001b[39m] \u001b[38;5;241m=\u001b[39m \u001b[38;5;28;01mTrue\u001b[39;00m\n\u001b[0;32m    203\u001b[0m     \u001b[38;5;28;01melse\u001b[39;00m:\n\u001b[1;32m--> 204\u001b[0m         data[key] \u001b[38;5;241m=\u001b[39m \u001b[43mSpreadsheetsManager\u001b[49m\u001b[38;5;241;43m.\u001b[39;49m\u001b[43mnew_record_from_key\u001b[49m\u001b[43m(\u001b[49m\u001b[43mkey\u001b[49m\u001b[43m)\u001b[49m\n\u001b[0;32m    206\u001b[0m SpreadsheetsManager\u001b[38;5;241m.\u001b[39msave_data(data, \u001b[38;5;28mstr\u001b[39m(filepath))\n",
      "File \u001b[1;32me:\\blindcubing-trainer\\blindcubing-trainer\\Code\\SpreadsheetsManager.py:80\u001b[0m, in \u001b[0;36mSpreadsheetsManager.new_record_from_key\u001b[1;34m(key)\u001b[0m\n\u001b[0;32m     71\u001b[0m \u001b[38;5;250m\u001b[39m\u001b[38;5;124;03m'''\u001b[39;00m\n\u001b[0;32m     72\u001b[0m \u001b[38;5;124;03mCreates new record to be appended to the file from the given key\u001b[39;00m\n\u001b[0;32m     73\u001b[0m \u001b[38;5;124;03m'''\u001b[39;00m\n\u001b[0;32m     75\u001b[0m key \u001b[38;5;241m=\u001b[39m key\u001b[38;5;241m.\u001b[39msplit(\u001b[38;5;124m\"\u001b[39m\u001b[38;5;124m;\u001b[39m\u001b[38;5;124m\"\u001b[39m)\n\u001b[0;32m     76\u001b[0m \u001b[38;5;28;01mreturn\u001b[39;00m {\n\u001b[0;32m     77\u001b[0m     \u001b[38;5;124m\"\u001b[39m\u001b[38;5;124mbuffer\u001b[39m\u001b[38;5;124m\"\u001b[39m: key[\u001b[38;5;241m0\u001b[39m],\n\u001b[0;32m     78\u001b[0m     \u001b[38;5;124m\"\u001b[39m\u001b[38;5;124mfirst_target\u001b[39m\u001b[38;5;124m\"\u001b[39m: key[\u001b[38;5;241m1\u001b[39m],\n\u001b[0;32m     79\u001b[0m     \u001b[38;5;124m\"\u001b[39m\u001b[38;5;124msecond_target\u001b[39m\u001b[38;5;124m\"\u001b[39m: key[\u001b[38;5;241m2\u001b[39m],\n\u001b[1;32m---> 80\u001b[0m     \u001b[38;5;124m\"\u001b[39m\u001b[38;5;124malg\u001b[39m\u001b[38;5;124m\"\u001b[39m: \u001b[43mkey\u001b[49m\u001b[43m[\u001b[49m\u001b[38;5;241;43m3\u001b[39;49m\u001b[43m]\u001b[49m,\n\u001b[0;32m     81\u001b[0m     \u001b[38;5;124m\"\u001b[39m\u001b[38;5;124mresults\u001b[39m\u001b[38;5;124m\"\u001b[39m: [],\n\u001b[0;32m     82\u001b[0m     \u001b[38;5;124m\"\u001b[39m\u001b[38;5;124mlatest\u001b[39m\u001b[38;5;124m\"\u001b[39m: \u001b[38;5;28;01mTrue\u001b[39;00m,\n\u001b[0;32m     83\u001b[0m }\n",
      "\u001b[1;31mIndexError\u001b[0m: list index out of range"
     ]
    }
   ],
   "source": [
    "from Code.SpreadsheetsManager import SpreadsheetsManager\n",
    "\n",
    "filepath = \"Files/Edges.xlsx\"\n",
    "sm = SpreadsheetsManager(filepath)\n",
    "\n",
    "output = sm.update_algs()"
   ]
  },
  {
   "cell_type": "code",
   "execution_count": null,
   "metadata": {},
   "outputs": [
    {
     "data": {
      "text/plain": [
       "dict_keys(['edges_UF', 'edges_UB'])"
      ]
     },
     "execution_count": 5,
     "metadata": {},
     "output_type": "execute_result"
    }
   ],
   "source": [
    "output.keys()"
   ]
  },
  {
   "cell_type": "code",
   "execution_count": null,
   "metadata": {},
   "outputs": [],
   "source": []
  }
 ],
 "metadata": {
  "kernelspec": {
   "display_name": "venv",
   "language": "python",
   "name": "python3"
  },
  "language_info": {
   "codemirror_mode": {
    "name": "ipython",
    "version": 3
   },
   "file_extension": ".py",
   "mimetype": "text/x-python",
   "name": "python",
   "nbconvert_exporter": "python",
   "pygments_lexer": "ipython3",
   "version": "3.12.3"
  }
 },
 "nbformat": 4,
 "nbformat_minor": 2
}
