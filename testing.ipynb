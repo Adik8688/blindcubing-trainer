{
 "cells": [
  {
   "cell_type": "code",
   "execution_count": 1,
   "metadata": {},
   "outputs": [
    {
     "name": "stdout",
     "output_type": "stream",
     "text": [
      "Processing edges_UF\n",
      "Processing edges_UB\n",
      "Sheet name must contain both a piece type and a buffer, separated by space.\n"
     ]
    }
   ],
   "source": [
    "from Code.SpreadsheetsManager import SpreadsheetsManager\n",
    "\n",
    "filepath = \"Files/Edges.xlsx\"\n",
    "sm = SpreadsheetsManager(filepath)\n",
    "\n",
    "output = sm.update_algs()"
   ]
  },
  {
   "cell_type": "code",
   "execution_count": 5,
   "metadata": {},
   "outputs": [],
   "source": [
    "import pandas as pd\n",
    "\n",
    "# Data as a list of lists, exactly as specified.\n",
    "data = [\n",
    "    [\"\", \"UB\", \"UL\", \"UR\"],\n",
    "    [\"UB\", \"\", \"Bat\", \"Czas\"],\n",
    "    [\"UL\", \"Arbuz\", \"\", \"Cable\"],\n",
    "    [\"UR\", \"Acid\", \"Baca\", \"\"]\n",
    "]\n",
    "\n",
    "# Create a DataFrame from the data.\n",
    "df = pd.DataFrame(data)\n",
    "\n",
    "# Write the DataFrame to an Excel file.\n",
    "# Setting index=False and header=False ensures that we don't add extra row/column labels.\n",
    "output_file = \"debug.xlsx\"\n",
    "df.to_excel(output_file, index=False, header=False)"
   ]
  },
  {
   "cell_type": "code",
   "execution_count": 1,
   "metadata": {},
   "outputs": [],
   "source": [
    "from Code.ComutatorAnalyzer import ComutatorAnalyzer\n",
    "\n",
    "comutator = \"Lw U D: U2, R D' R'\"\n",
    "cm = ComutatorAnalyzer(comutator)"
   ]
  },
  {
   "cell_type": "code",
   "execution_count": 2,
   "metadata": {},
   "outputs": [
    {
     "data": {
      "text/plain": [
       "\"Lw U D U2 R D' R' U2 R D R' D' U' Lw'\""
      ]
     },
     "execution_count": 2,
     "metadata": {},
     "output_type": "execute_result"
    }
   ],
   "source": [
    "cm.get_alg_str()"
   ]
  },
  {
   "cell_type": "code",
   "execution_count": 1,
   "metadata": {},
   "outputs": [
    {
     "ename": "KeyError",
     "evalue": "'algorithms'",
     "output_type": "error",
     "traceback": [
      "\u001b[1;31m---------------------------------------------------------------------------\u001b[0m",
      "\u001b[1;31mKeyError\u001b[0m                                  Traceback (most recent call last)",
      "Cell \u001b[1;32mIn[1], line 4\u001b[0m\n\u001b[0;32m      1\u001b[0m \u001b[38;5;28;01mfrom\u001b[39;00m \u001b[38;5;21;01mCode\u001b[39;00m\u001b[38;5;21;01m.\u001b[39;00m\u001b[38;5;21;01mExportManager\u001b[39;00m \u001b[38;5;28;01mimport\u001b[39;00m ExportManager\n\u001b[0;32m      3\u001b[0m em \u001b[38;5;241m=\u001b[39m ExportManager()\n\u001b[1;32m----> 4\u001b[0m \u001b[43mem\u001b[49m\u001b[38;5;241;43m.\u001b[39;49m\u001b[43mexport_stats\u001b[49m\u001b[43m(\u001b[49m\u001b[43m)\u001b[49m\n",
      "File \u001b[1;32me:\\blindcubing-trainer\\blindcubing-trainer\\Code\\ExportManager.py:161\u001b[0m, in \u001b[0;36mExportManager.export_stats\u001b[1;34m(self)\u001b[0m\n\u001b[0;32m    157\u001b[0m \u001b[38;5;28;01mdef\u001b[39;00m \u001b[38;5;21mexport_stats\u001b[39m(\u001b[38;5;28mself\u001b[39m):\n\u001b[0;32m    158\u001b[0m \u001b[38;5;250m    \u001b[39m\u001b[38;5;124;03m\"\"\"\u001b[39;00m\n\u001b[0;32m    159\u001b[0m \u001b[38;5;124;03m    Calls submethods to export statistics.\u001b[39;00m\n\u001b[0;32m    160\u001b[0m \u001b[38;5;124;03m    \"\"\"\u001b[39;00m\n\u001b[1;32m--> 161\u001b[0m     \u001b[38;5;28;43mself\u001b[39;49m\u001b[38;5;241;43m.\u001b[39;49m\u001b[43mprepare_stats\u001b[49m\u001b[43m(\u001b[49m\u001b[43m)\u001b[49m\n\u001b[0;32m    162\u001b[0m     \u001b[38;5;28mself\u001b[39m\u001b[38;5;241m.\u001b[39msave_stats()\n\u001b[0;32m    163\u001b[0m     \u001b[38;5;28mself\u001b[39m\u001b[38;5;241m.\u001b[39msave_alg_sets()\n",
      "File \u001b[1;32me:\\blindcubing-trainer\\blindcubing-trainer\\Code\\ExportManager.py:123\u001b[0m, in \u001b[0;36mExportManager.prepare_stats\u001b[1;34m(self)\u001b[0m\n\u001b[0;32m    120\u001b[0m \u001b[38;5;28;01mfor\u001b[39;00m filename \u001b[38;5;129;01min\u001b[39;00m os\u001b[38;5;241m.\u001b[39mlistdir(ExportManager\u001b[38;5;241m.\u001b[39mIN_PATH):\n\u001b[0;32m    121\u001b[0m     \u001b[38;5;66;03m# Initialize a dict-of-lists for the temporary DataFrame.\u001b[39;00m\n\u001b[0;32m    122\u001b[0m     \u001b[38;5;28mself\u001b[39m\u001b[38;5;241m.\u001b[39mtemp_df \u001b[38;5;241m=\u001b[39m {col: [] \u001b[38;5;28;01mfor\u001b[39;00m col \u001b[38;5;129;01min\u001b[39;00m ExportManager\u001b[38;5;241m.\u001b[39mCOLUMNS}\n\u001b[1;32m--> 123\u001b[0m     \u001b[38;5;28;43mself\u001b[39;49m\u001b[38;5;241;43m.\u001b[39;49m\u001b[43mprocess_file\u001b[49m\u001b[43m(\u001b[49m\u001b[43mExportManager\u001b[49m\u001b[38;5;241;43m.\u001b[39;49m\u001b[43mIN_PATH\u001b[49m\u001b[43m \u001b[49m\u001b[38;5;241;43m/\u001b[39;49m\u001b[43m \u001b[49m\u001b[43mfilename\u001b[49m\u001b[43m)\u001b[49m\n\u001b[0;32m    125\u001b[0m     \u001b[38;5;66;03m# Only add non-empty dataframes.\u001b[39;00m\n\u001b[0;32m    126\u001b[0m     \u001b[38;5;66;03m# (Consider checking if at least one column list is non-empty.)\u001b[39;00m\n\u001b[0;32m    127\u001b[0m     \u001b[38;5;28;01mif\u001b[39;00m \u001b[38;5;28many\u001b[39m(\u001b[38;5;28mself\u001b[39m\u001b[38;5;241m.\u001b[39mtemp_df\u001b[38;5;241m.\u001b[39mvalues()):\n\u001b[0;32m    128\u001b[0m         \u001b[38;5;66;03m# Convert filename to a more friendly sheet name.\u001b[39;00m\n",
      "File \u001b[1;32me:\\blindcubing-trainer\\blindcubing-trainer\\Code\\ExportManager.py:72\u001b[0m, in \u001b[0;36mExportManager.process_file\u001b[1;34m(self, filepath)\u001b[0m\n\u001b[0;32m     69\u001b[0m data \u001b[38;5;241m=\u001b[39m ExportManager\u001b[38;5;241m.\u001b[39mget_data(filepath)\n\u001b[0;32m     71\u001b[0m \u001b[38;5;28;01mfor\u001b[39;00m case, record \u001b[38;5;129;01min\u001b[39;00m data\u001b[38;5;241m.\u001b[39mitems():\n\u001b[1;32m---> 72\u001b[0m     \u001b[38;5;28;01mfor\u001b[39;00m r \u001b[38;5;129;01min\u001b[39;00m \u001b[43mrecord\u001b[49m\u001b[43m[\u001b[49m\u001b[38;5;124;43m'\u001b[39;49m\u001b[38;5;124;43malgorithms\u001b[39;49m\u001b[38;5;124;43m'\u001b[39;49m\u001b[43m]\u001b[49m:\n\u001b[0;32m     73\u001b[0m         results \u001b[38;5;241m=\u001b[39m r\u001b[38;5;241m.\u001b[39mget(\u001b[38;5;124m\"\u001b[39m\u001b[38;5;124mresults\u001b[39m\u001b[38;5;124m\"\u001b[39m, [])\n\u001b[0;32m     75\u001b[0m         \u001b[38;5;66;03m# Skip records with an empty results list.\u001b[39;00m\n",
      "\u001b[1;31mKeyError\u001b[0m: 'algorithms'"
     ]
    }
   ],
   "source": [
    "from Code.ExportManager import ExportManager\n",
    "\n",
    "em = ExportManager()\n",
    "em.export_stats()"
   ]
  },
  {
   "cell_type": "code",
   "execution_count": null,
   "metadata": {},
   "outputs": [
    {
     "ename": "NameError",
     "evalue": "name 'true' is not defined",
     "output_type": "error",
     "traceback": [
      "\u001b[1;31m---------------------------------------------------------------------------\u001b[0m",
      "\u001b[1;31mNameError\u001b[0m                                 Traceback (most recent call last)",
      "Cell \u001b[1;32mIn[2], line 16\u001b[0m\n\u001b[0;32m      1\u001b[0m my_dict \u001b[38;5;241m=\u001b[39m { \u001b[38;5;124m\"\u001b[39m\u001b[38;5;124mUF;BD;BL\u001b[39m\u001b[38;5;124m\"\u001b[39m: {\n\u001b[0;32m      2\u001b[0m     \u001b[38;5;124m\"\u001b[39m\u001b[38;5;124malgorithms\u001b[39m\u001b[38;5;124m\"\u001b[39m: [\n\u001b[0;32m      3\u001b[0m       {\n\u001b[0;32m      4\u001b[0m         \u001b[38;5;124m\"\u001b[39m\u001b[38;5;124malg\u001b[39m\u001b[38;5;124m\"\u001b[39m: \u001b[38;5;124m\"\u001b[39m\u001b[38;5;124mU: L, U M U\u001b[39m\u001b[38;5;124m'\u001b[39m\u001b[38;5;124m\"\u001b[39m,\n\u001b[0;32m      5\u001b[0m         \u001b[38;5;124m\"\u001b[39m\u001b[38;5;124mresults\u001b[39m\u001b[38;5;124m\"\u001b[39m: [\n\u001b[0;32m      6\u001b[0m           \u001b[38;5;241m0.86\u001b[39m,\n\u001b[0;32m      7\u001b[0m           \u001b[38;5;241m0.81\u001b[39m,\n\u001b[0;32m      8\u001b[0m           \u001b[38;5;241m1.18\u001b[39m,\n\u001b[0;32m      9\u001b[0m           \u001b[38;5;241m1.2\u001b[39m,\n\u001b[0;32m     10\u001b[0m           \u001b[38;5;241m1.34\u001b[39m,\n\u001b[0;32m     11\u001b[0m           \u001b[38;5;241m0.8\u001b[39m,\n\u001b[0;32m     12\u001b[0m           \u001b[38;5;241m0.9\u001b[39m,\n\u001b[0;32m     13\u001b[0m           \u001b[38;5;241m0.86\u001b[39m,\n\u001b[0;32m     14\u001b[0m           \u001b[38;5;241m0.76\u001b[39m\n\u001b[0;32m     15\u001b[0m         ],\n\u001b[1;32m---> 16\u001b[0m         \u001b[38;5;124m\"\u001b[39m\u001b[38;5;124mlatest\u001b[39m\u001b[38;5;124m\"\u001b[39m: \u001b[43mtrue\u001b[49m,\n\u001b[0;32m     17\u001b[0m         \u001b[38;5;124m\"\u001b[39m\u001b[38;5;124mlp\u001b[39m\u001b[38;5;124m\"\u001b[39m: \u001b[38;5;124m\"\u001b[39m\u001b[38;5;124mOM\u001b[39m\u001b[38;5;124m\"\u001b[39m\n\u001b[0;32m     18\u001b[0m       }\n\u001b[0;32m     19\u001b[0m     ]\n\u001b[0;32m     20\u001b[0m   }\n\u001b[0;32m     21\u001b[0m }\n\u001b[0;32m     23\u001b[0m \u001b[38;5;28;01mfor\u001b[39;00m case, record \u001b[38;5;129;01min\u001b[39;00m my_dict\u001b[38;5;241m.\u001b[39mitems():\n\u001b[0;32m     24\u001b[0m     \u001b[38;5;28;01mfor\u001b[39;00m r \u001b[38;5;129;01min\u001b[39;00m record[\u001b[38;5;124m'\u001b[39m\u001b[38;5;124malgorithms\u001b[39m\u001b[38;5;124m'\u001b[39m]:\n",
      "\u001b[1;31mNameError\u001b[0m: name 'true' is not defined"
     ]
    }
   ],
   "source": [
    "my_dict = { \"UF;BD;BL\": {\n",
    "    \"algorithms\": [\n",
    "      {\n",
    "        \"alg\": \"U: L, U M U'\",\n",
    "        \"results\": [\n",
    "          0.86,\n",
    "          0.81,\n",
    "          1.18,\n",
    "          1.2,\n",
    "          1.34,\n",
    "          0.8,\n",
    "          0.9,\n",
    "          0.86,\n",
    "          0.76\n",
    "        ],\n",
    "        \"latest\": True,\n",
    "        \"lp\": \"OM\"\n",
    "      }\n",
    "    ]\n",
    "  }\n",
    "}\n",
    "\n",
    "for case, record in my_dict.items():\n",
    "    for r in record['algorithms']:\n",
    "        print(r)"
   ]
  },
  {
   "cell_type": "code",
   "execution_count": null,
   "metadata": {},
   "outputs": [],
   "source": []
  }
 ],
 "metadata": {
  "kernelspec": {
   "display_name": "venv",
   "language": "python",
   "name": "python3"
  },
  "language_info": {
   "codemirror_mode": {
    "name": "ipython",
    "version": 3
   },
   "file_extension": ".py",
   "mimetype": "text/x-python",
   "name": "python",
   "nbconvert_exporter": "python",
   "pygments_lexer": "ipython3",
   "version": "3.12.3"
  }
 },
 "nbformat": 4,
 "nbformat_minor": 2
}
