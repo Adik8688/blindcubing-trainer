{
 "cells": [
  {
   "cell_type": "code",
   "execution_count": 2,
   "id": "ef9953e8-7244-4195-9c5a-e97415ea398d",
   "metadata": {},
   "outputs": [],
   "source": [
    "import json"
   ]
  },
  {
   "cell_type": "code",
   "execution_count": 3,
   "id": "1ee63047-fcf4-49ae-b0d5-13c2bd10d3f2",
   "metadata": {},
   "outputs": [],
   "source": [
    "def get_data(filename='data.json'):\n",
    "    with open(filename, 'r') as f:\n",
    "        return json.load(f)"
   ]
  },
  {
   "cell_type": "code",
   "execution_count": 4,
   "id": "22978264-dea6-4d00-967a-dc75058f66f9",
   "metadata": {},
   "outputs": [],
   "source": [
    "def save_data(data, filename='data.json'):\n",
    "    with open(filename, 'w') as f:\n",
    "        json.dump(data, f, indent=2)"
   ]
  },
  {
   "cell_type": "code",
   "execution_count": 5,
   "id": "ef0557d3-ab44-4b79-b55c-55a1090f5873",
   "metadata": {},
   "outputs": [],
   "source": [
    "def generate_keys():\n",
    "    data = get_data()\n",
    "\n",
    "    data = {f\"{i['buffer']};{i['pieces']};{i['alg']}\": i for i in data}\n",
    "\n",
    "    save_data(data)"
   ]
  },
  {
   "cell_type": "code",
   "execution_count": 6,
   "id": "80fca724-b928-4293-b3da-d38298c108ba",
   "metadata": {},
   "outputs": [],
   "source": [
    "def only_latest_algs(data):\n",
    "    return {k: v for k, v in data.items() if v['latest_alg']}"
   ]
  },
  {
   "cell_type": "code",
   "execution_count": 7,
   "id": "4902ac6f-87de-4850-be3d-602b0e368189",
   "metadata": {},
   "outputs": [],
   "source": [
    "def keys_with_given_buffer_targets_pair(data, buffer, targets):\n",
    "    return [k for k, v in data.items() if [buffer, targets] == k.split(';')[:2]]"
   ]
  },
  {
   "cell_type": "code",
   "execution_count": 8,
   "id": "1f974e8d-14f3-4d72-8c91-ad8526bf1727",
   "metadata": {},
   "outputs": [],
   "source": [
    "def is_key_in_dict(data, key):\n",
    "    return key in data"
   ]
  },
  {
   "cell_type": "code",
   "execution_count": 9,
   "id": "575739b6-074f-4915-9345-9aaf1e8a6bdd",
   "metadata": {},
   "outputs": [],
   "source": [
    "def get_sheet_content(filename):\n",
    "    result = []\n",
    "    with open(filename) as f:\n",
    "        for i in f:\n",
    "            result.append(i.strip().split(';'))\n",
    "\n",
    "    return result"
   ]
  },
  {
   "cell_type": "code",
   "execution_count": 10,
   "id": "571c5de4-9d6f-4767-addc-5658a241a829",
   "metadata": {},
   "outputs": [],
   "source": [
    "VALID_CHARS = \" UDFBRLMESudfbrlw'/:,2xyz\"\n",
    "\n",
    "def clean_alg_entry(alg):\n",
    "    # filtering out invalid chars\n",
    "    alg = ''.join([i for i in alg if i in VALID_CHARS])\n",
    "\n",
    "    # cleaning multiple spaces \n",
    "    alg = ' '.join(alg.split())\n",
    "\n",
    "    # cleaning whitespaces before , : '\n",
    "    i = 0\n",
    "    while i < len(alg):\n",
    "        if alg[i] in \"':,\" and i > 0 and alg[i - 1] == \" \":\n",
    "            alg = alg[:i-1] + alg[i:]\n",
    "        else:\n",
    "            i += 1\n",
    "\n",
    "    return alg"
   ]
  },
  {
   "cell_type": "code",
   "execution_count": 11,
   "id": "23b194e7-04aa-4615-9c14-dffd666be44f",
   "metadata": {},
   "outputs": [
    {
     "data": {
      "text/plain": [
       "\"R: R E' R', U'\""
      ]
     },
     "execution_count": 11,
     "metadata": {},
     "output_type": "execute_result"
    }
   ],
   "source": [
    "alg = \"[Ra    :  R  (1E ' 6  R    '&&   , %9 U       ']\"\n",
    "clean_alg_entry(alg)"
   ]
  },
  {
   "cell_type": "code",
   "execution_count": 12,
   "id": "a99aa601-85f5-487e-9a66-ce1aedadf46c",
   "metadata": {},
   "outputs": [],
   "source": [
    "def grid_to_alg_list(grid):\n",
    "    result = []\n",
    "    for i in range(1, len(grid)):\n",
    "        for j in range(1, len(grid)):\n",
    "            if grid[i][j]:\n",
    "                alg = clean_alg_entry(grid[i][j])\n",
    "                key = \";\".join([grid[0][0], f'{grid[0][j]} {grid[i][0]}', alg])\n",
    "                result.append(key)\n",
    "    return result"
   ]
  },
  {
   "cell_type": "code",
   "execution_count": 13,
   "id": "23b49b22-da8f-48b6-8f14-8faf60134ae5",
   "metadata": {},
   "outputs": [],
   "source": [
    "def new_record_from_key(key):\n",
    "    key = key.split(';')\n",
    "\n",
    "    return {\n",
    "        'buffer': key[0],\n",
    "        'targets': key[1],\n",
    "        'alg': key[2],\n",
    "        'results': [],\n",
    "        'latest': True\n",
    "    }"
   ]
  },
  {
   "cell_type": "code",
   "execution_count": 14,
   "id": "158858dd-7de2-4895-a7b5-f0c2c7f65468",
   "metadata": {},
   "outputs": [],
   "source": [
    "def update_algs():\n",
    "    data = get_data()\n",
    "    algs = get_sheet_content('algs.csv')\n",
    "    algs_list = grid_to_alg_list(algs)\n",
    "\n",
    "    for alg in algs_list:\n",
    "        decoded_key = alg.split(';')\n",
    "        existing_algs = keys_with_given_buffer_targets_pair(data, decoded_key[0], decoded_key[1])\n",
    "\n",
    "        for k in existing_algs:\n",
    "            data[k]['latest'] = False\n",
    "\n",
    "        if alg in data:\n",
    "            data[alg]['latest'] = True\n",
    "        else:\n",
    "            data[alg] = new_record_from_key(alg)\n",
    "\n",
    "    return data"
   ]
  },
  {
   "cell_type": "code",
   "execution_count": 15,
   "id": "1b8b952b-ffa7-4944-b319-cef66c117497",
   "metadata": {},
   "outputs": [],
   "source": [
    "from random import shuffle\n",
    "\n",
    "def get_n_random_keys(data, n):\n",
    "    data = {k: v for k, v in data.items() if v['latest']}\n",
    "    if n > len(data):\n",
    "        n = len(data)\n",
    "    keys = list(data)\n",
    "    shuffle(keys)\n",
    "    return keys[:n]    "
   ]
  },
  {
   "cell_type": "code",
   "execution_count": 16,
   "id": "9769a422-2219-466a-a969-21c264015ff5",
   "metadata": {},
   "outputs": [],
   "source": [
    "def display_record(alg):\n",
    "    if 'word' in alg:\n",
    "        print(alg['word'])\n",
    "    elif 'lp' in alg:\n",
    "        print(alg['lp'])\n",
    "    else:\n",
    "        print(alg['targets'])"
   ]
  },
  {
   "cell_type": "code",
   "execution_count": 17,
   "id": "90fed4d6-3e98-4e65-9600-0f01d3f88719",
   "metadata": {},
   "outputs": [],
   "source": [
    "from datetime import datetime\n",
    "\n",
    "def measure_time():\n",
    "    start = datetime.now()\n",
    "    input()\n",
    "    end = datetime.now()\n",
    "    delta = (end - start).total_seconds()\n",
    "    return round(delta, 2)"
   ]
  },
  {
   "cell_type": "code",
   "execution_count": 18,
   "id": "426d5194-0b92-4646-9449-e1ef30efc90d",
   "metadata": {},
   "outputs": [],
   "source": [
    "def get_response():\n",
    "    print()\n",
    "    response = input('Type Y to save results')\n",
    "    return response == 'Y'"
   ]
  },
  {
   "cell_type": "code",
   "execution_count": 19,
   "id": "116ad8bf-fd29-419a-b9fd-b921356bdc2c",
   "metadata": {},
   "outputs": [],
   "source": [
    "def add_entries(data, results):\n",
    "    for k, v in results.items():\n",
    "        data[k]['results'].append(v)\n",
    "\n",
    "    save_data(data)"
   ]
  },
  {
   "cell_type": "code",
   "execution_count": 20,
   "id": "49328110-759d-4c27-b35b-c5199083a32f",
   "metadata": {},
   "outputs": [],
   "source": [
    "def run_game(n):\n",
    "    results_dict = dict()\n",
    "    data = get_data()\n",
    "    algs = get_n_random_keys(data, n)\n",
    "    for alg in algs:\n",
    "        display_record(data[alg])\n",
    "        exec_time = measure_time()\n",
    "        results_dict[alg] = exec_time\n",
    "\n",
    "    print('Results to be saved:')\n",
    "    for k, v in results_dict.items():\n",
    "        print(k.split(';')[1], v)\n",
    "\n",
    "    if get_response():\n",
    "        add_entries(data, results_dict)\n",
    "    "
   ]
  },
  {
   "cell_type": "code",
   "execution_count": 21,
   "id": "e34f3baf",
   "metadata": {},
   "outputs": [],
   "source": [
    "def get_words_dict(grid):\n",
    "    result = dict()\n",
    "    for i in range(1, len(grid)):\n",
    "        for j in range(1, len(grid[0])):\n",
    "            if grid[i][j]:\n",
    "                key = f'{grid[0][j]} {grid[i][0]}'\n",
    "                result[key] = grid[i][j]\n",
    "    return result"
   ]
  },
  {
   "cell_type": "code",
   "execution_count": 22,
   "id": "5355d82e",
   "metadata": {},
   "outputs": [
    {
     "data": {
      "text/plain": [
       "{'UL UB': 'Bat',\n",
       " 'UR UB': 'Czas',\n",
       " 'UB UL': 'Arbuz',\n",
       " 'UR UL': 'Cable',\n",
       " 'UB UR': 'Acid',\n",
       " 'UL UR': 'Baca'}"
      ]
     },
     "execution_count": 22,
     "metadata": {},
     "output_type": "execute_result"
    }
   ],
   "source": [
    "words = get_sheet_content('memo.csv')\n",
    "get_words_dict(words)"
   ]
  },
  {
   "cell_type": "code",
   "execution_count": 23,
   "id": "c835d988-f8a3-43d3-89a7-8a1818388a70",
   "metadata": {},
   "outputs": [],
   "source": [
    "def update_words():\n",
    "    data = get_data()\n",
    "    words = get_sheet_content('memo.csv')\n",
    "    words_dict = get_words_dict(words)\n",
    "\n",
    "    for k, v in data.items():\n",
    "        if v['targets'] in words_dict:\n",
    "            data[k]['word'] = words_dict[v['targets']]\n",
    "\n",
    "    return data"
   ]
  },
  {
   "cell_type": "code",
   "execution_count": 30,
   "id": "5ce0dd2d",
   "metadata": {},
   "outputs": [],
   "source": [
    "def get_lps_dict(grid):\n",
    "    return {i[0]: i[1] for i in grid}"
   ]
  },
  {
   "cell_type": "code",
   "execution_count": 31,
   "id": "f856725b",
   "metadata": {},
   "outputs": [],
   "source": [
    "def update_LPs():\n",
    "    data = get_data()\n",
    "    lps = get_sheet_content('LP.csv')\n",
    "    lps_dict = get_lps_dict(lps)\n",
    "\n",
    "    for k, v in data.items():\n",
    "        try:\n",
    "            targets = v['targets'].split()\n",
    "            data[k]['lp'] = ''.join([lps_dict[i] for i in targets])\n",
    "        except KeyError:\n",
    "            pass\n",
    "    \n",
    "    return data"
   ]
  },
  {
   "cell_type": "code",
   "execution_count": 32,
   "id": "9034c748",
   "metadata": {},
   "outputs": [
    {
     "data": {
      "text/plain": [
       "{\"UF;UB UL;U' M2 U: M, U2\": {'lp': 'AB',\n",
       "  'alg': \"U' M2 U: M, U2\",\n",
       "  'latest': True,\n",
       "  'targets': 'UB UL',\n",
       "  'buffer': 'UF',\n",
       "  'word': 'Arbuz',\n",
       "  'results': [0.24, 0.32, 0.31, 0.77, 4.96, 1.45]},\n",
       " \"UF;UB UR;U M2 U': M, U2\": {'lp': 'AC',\n",
       "  'alg': \"U M2 U': M, U2\",\n",
       "  'latest': True,\n",
       "  'targets': 'UB UR',\n",
       "  'buffer': 'UF',\n",
       "  'word': 'Acid',\n",
       "  'results': [0.54, 0.12, 0.41, 4.06, 0.54, 2.7, 1.33]},\n",
       " \"UF;UB UR;R2 U': S, R2\": {'lp': 'AC',\n",
       "  'alg': \"R2 U': S, R2\",\n",
       "  'latest': False,\n",
       "  'targets': 'UB UR',\n",
       "  'buffer': 'UF',\n",
       "  'word': 'Acid',\n",
       "  'results': [0.54, 0.27, 0.16]},\n",
       " \"UF;UL UB;U' M2 U: U2, M\": {'buffer': 'UF',\n",
       "  'targets': 'UL UB',\n",
       "  'alg': \"U' M2 U: U2, M\",\n",
       "  'results': [0.96, 1.45],\n",
       "  'latest': True,\n",
       "  'word': 'Bat',\n",
       "  'lp': 'BA'},\n",
       " \"UF;UR UB;U M2 U': U2, M\": {'buffer': 'UF',\n",
       "  'targets': 'UR UB',\n",
       "  'alg': \"U M2 U': U2, M\",\n",
       "  'results': [0.78, 4.8, 2.71],\n",
       "  'latest': True,\n",
       "  'word': 'Czas',\n",
       "  'lp': 'CA'},\n",
       " 'UF;UR UL;M2 U: M, U2': {'buffer': 'UF',\n",
       "  'targets': 'UR UL',\n",
       "  'alg': 'M2 U: M, U2',\n",
       "  'results': [0.52, 3.42],\n",
       "  'latest': True,\n",
       "  'word': 'Cable',\n",
       "  'lp': 'CB'},\n",
       " \"UF;UL UR;M2 U': M, U2\": {'buffer': 'UF',\n",
       "  'targets': 'UL UR',\n",
       "  'alg': \"M2 U': M, U2\",\n",
       "  'results': [0.81, 0.76, 1.5],\n",
       "  'latest': True,\n",
       "  'word': 'Baca',\n",
       "  'lp': 'BC'}}"
      ]
     },
     "execution_count": 32,
     "metadata": {},
     "output_type": "execute_result"
    }
   ],
   "source": [
    "update_LPs()"
   ]
  },
  {
   "cell_type": "code",
   "execution_count": 33,
   "id": "ed92c7c1",
   "metadata": {},
   "outputs": [],
   "source": [
    "data = update_words()\n",
    "save_data(data, 'data.json')"
   ]
  },
  {
   "cell_type": "code",
   "execution_count": 36,
   "id": "0f644ea7-a99a-486e-a5ec-8f06c41b5e94",
   "metadata": {},
   "outputs": [
    {
     "name": "stdout",
     "output_type": "stream",
     "text": [
      "Bat\n",
      "Acid\n",
      "Baca\n",
      "Czas\n",
      "Arbuz\n",
      "Results to be saved:\n",
      "UL UB 1.45\n",
      "UB UR 1.33\n",
      "UL UR 1.5\n",
      "UR UB 2.71\n",
      "UB UL 1.45\n",
      "\n"
     ]
    }
   ],
   "source": [
    "run_game(5)"
   ]
  },
  {
   "cell_type": "code",
   "execution_count": 133,
   "id": "098b16ac-426b-4cd9-b47b-4b5636e36038",
   "metadata": {},
   "outputs": [
    {
     "name": "stdout",
     "output_type": "stream",
     "text": [
      "Arbuz\n",
      "\n",
      "UR UL\n",
      "\n",
      "UR UB\n",
      "\n"
     ]
    }
   ],
   "source": [
    "data = get_data()\n",
    "algs = get_n_random_keys(data, 3)\n",
    "for k in algs:\n",
    "    display_record(data[k])\n",
    "    print()"
   ]
  },
  {
   "cell_type": "code",
   "execution_count": 134,
   "id": "2a9b47a3-2536-4aca-83d6-3e0c0679aef4",
   "metadata": {},
   "outputs": [
    {
     "name": "stdout",
     "output_type": "stream",
     "text": [
      " 3\n"
     ]
    },
    {
     "data": {
      "text/plain": [
       "1.31"
      ]
     },
     "execution_count": 134,
     "metadata": {},
     "output_type": "execute_result"
    }
   ],
   "source": [
    "measure_time()"
   ]
  },
  {
   "cell_type": "code",
   "execution_count": 71,
   "id": "3741df6f-231b-42a7-a9d2-48badaf70342",
   "metadata": {},
   "outputs": [],
   "source": [
    "grid = get_sheet_content()"
   ]
  },
  {
   "cell_type": "code",
   "execution_count": 92,
   "id": "55747631-947b-4e82-bed9-2b3ba5c595be",
   "metadata": {},
   "outputs": [
    {
     "data": {
      "text/plain": [
       "[1, 2, 3]"
      ]
     },
     "execution_count": 92,
     "metadata": {},
     "output_type": "execute_result"
    }
   ],
   "source": [
    "a = [1,2,3,4]\n",
    "a[:3]"
   ]
  },
  {
   "cell_type": "code",
   "execution_count": 73,
   "id": "ef9570c8-1340-4749-baaa-1cce4c8cd564",
   "metadata": {},
   "outputs": [
    {
     "data": {
      "text/plain": [
       "[\"UF;UL UB;U' M2 U: U2, M\",\n",
       " \"UF;UR UB;U M2 U': U2, M\",\n",
       " \"UF;UB UL;U' M2 U: M, U2\",\n",
       " 'UF;UR UL;M2 U: M, U2',\n",
       " \"UF;UB UR;U M2 U': M, U2\",\n",
       " \"UF;UL UR;M2 U': M, U2\"]"
      ]
     },
     "execution_count": 73,
     "metadata": {},
     "output_type": "execute_result"
    }
   ],
   "source": [
    "grid_to_alg_list(grid)"
   ]
  },
  {
   "cell_type": "code",
   "execution_count": 41,
   "id": "86652fca-1478-457e-800e-4a73743953a7",
   "metadata": {},
   "outputs": [
    {
     "data": {
      "text/plain": [
       "True"
      ]
     },
     "execution_count": 41,
     "metadata": {},
     "output_type": "execute_result"
    }
   ],
   "source": [
    "is_key_in_dict(data, \"UF;UB UL;U' M2 U: M, U2\")"
   ]
  },
  {
   "cell_type": "code",
   "execution_count": null,
   "id": "e28ac7e3-c3f1-4da1-803c-961e40869c25",
   "metadata": {},
   "outputs": [],
   "source": []
  },
  {
   "cell_type": "code",
   "execution_count": 35,
   "id": "0c9e7582-6222-45a3-91a2-80cfb2df0cf0",
   "metadata": {},
   "outputs": [
    {
     "data": {
      "text/plain": [
       "2"
      ]
     },
     "execution_count": 35,
     "metadata": {},
     "output_type": "execute_result"
    }
   ],
   "source": [
    "count_buffer_targets(data, 'UF;UB UR')"
   ]
  },
  {
   "cell_type": "code",
   "execution_count": 38,
   "id": "4648b723-e315-4efd-998a-a13479444a9f",
   "metadata": {},
   "outputs": [
    {
     "data": {
      "text/plain": [
       "{\"UF;UB UL;U' M2 U: M, U2\": {'lp': 'AB',\n",
       "  'alg': \"U' M2 U: M, U2\",\n",
       "  'latest_alg': True,\n",
       "  'pieces': 'UB UL',\n",
       "  'buffer': 'UF',\n",
       "  'word': 'Arbuz',\n",
       "  'results': [0.24, 0.32, 0.31]},\n",
       " \"UF;UB UR;U M2 U': M, U2\": {'lp': 'AC',\n",
       "  'alg': \"U M2 U': M, U2\",\n",
       "  'latest_alg': False,\n",
       "  'pieces': 'UB UR',\n",
       "  'buffer': 'UF',\n",
       "  'word': 'Acid',\n",
       "  'results': [0.54, 0.12, 0.41]},\n",
       " \"UF;UB UR;R2 U': S, R2\": {'lp': 'AC',\n",
       "  'alg': \"R2 U': S, R2\",\n",
       "  'latest_alg': True,\n",
       "  'pieces': 'UB UR',\n",
       "  'buffer': 'UF',\n",
       "  'word': 'Acid',\n",
       "  'results': [0.54, 0.27, 0.16]}}"
      ]
     },
     "execution_count": 38,
     "metadata": {},
     "output_type": "execute_result"
    }
   ],
   "source": [
    "data"
   ]
  },
  {
   "cell_type": "code",
   "execution_count": null,
   "id": "61b22b1b-a3e3-4f65-a42f-a58fe6f98234",
   "metadata": {},
   "outputs": [],
   "source": []
  }
 ],
 "metadata": {
  "kernelspec": {
   "display_name": "Python 3.10.6 64-bit",
   "language": "python",
   "name": "python3"
  },
  "language_info": {
   "codemirror_mode": {
    "name": "ipython",
    "version": 3
   },
   "file_extension": ".py",
   "mimetype": "text/x-python",
   "name": "python",
   "nbconvert_exporter": "python",
   "pygments_lexer": "ipython3",
   "version": "3.11.4"
  },
  "vscode": {
   "interpreter": {
    "hash": "aee8b7b246df8f9039afb4144a1f6fd8d2ca17a180786b69acc140d282b71a49"
   }
  }
 },
 "nbformat": 4,
 "nbformat_minor": 5
}
