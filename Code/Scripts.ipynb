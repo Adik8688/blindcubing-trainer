{
 "cells": [
  {
   "cell_type": "markdown",
   "id": "11064088",
   "metadata": {},
   "source": [
    "## Functions trash bin"
   ]
  },
  {
   "cell_type": "markdown",
   "id": "703e4f63",
   "metadata": {},
   "source": [
    "### Modifying file"
   ]
  },
  {
   "cell_type": "code",
   "execution_count": 1,
   "id": "ef9953e8-7244-4195-9c5a-e97415ea398d",
   "metadata": {},
   "outputs": [],
   "source": [
    "import json\n",
    "\n",
    "def get_data(filename='data.json'):\n",
    "    with open(filename, 'r') as f:\n",
    "        return json.load(f)\n",
    "\n",
    "\n",
    "def save_data(data, filename='data.json'):\n",
    "    with open(filename, 'w') as f:\n",
    "        json.dump(data, f, indent=2)"
   ]
  },
  {
   "cell_type": "markdown",
   "id": "ce562325",
   "metadata": {},
   "source": [
    "### Filtering data"
   ]
  },
  {
   "cell_type": "code",
   "execution_count": 64,
   "id": "d4c2292d",
   "metadata": {},
   "outputs": [],
   "source": [
    "def filter_data(**attributes):\n",
    "    data = get_data()\n",
    "    result = dict()\n",
    "\n",
    "    for k, v in data.items():\n",
    "        if not any(v[k1] not in v1 for k1, v1 in attributes.items()):\n",
    "            result[k] = v\n",
    "    \n",
    "    return result"
   ]
  },
  {
   "cell_type": "markdown",
   "id": "a060a6e3",
   "metadata": {},
   "source": [
    "### Updating algs"
   ]
  },
  {
   "cell_type": "code",
   "execution_count": 60,
   "id": "a1d92cf7",
   "metadata": {},
   "outputs": [
    {
     "data": {
      "text/html": [
       "<div>\n",
       "<style scoped>\n",
       "    .dataframe tbody tr th:only-of-type {\n",
       "        vertical-align: middle;\n",
       "    }\n",
       "\n",
       "    .dataframe tbody tr th {\n",
       "        vertical-align: top;\n",
       "    }\n",
       "\n",
       "    .dataframe thead th {\n",
       "        text-align: right;\n",
       "    }\n",
       "</style>\n",
       "<table border=\"1\" class=\"dataframe\">\n",
       "  <thead>\n",
       "    <tr style=\"text-align: right;\">\n",
       "      <th></th>\n",
       "      <th>0</th>\n",
       "      <th>1</th>\n",
       "      <th>2</th>\n",
       "      <th>3</th>\n",
       "    </tr>\n",
       "  </thead>\n",
       "  <tbody>\n",
       "    <tr>\n",
       "      <th>0</th>\n",
       "      <td>UF</td>\n",
       "      <td>UB</td>\n",
       "      <td>UL</td>\n",
       "      <td>UR</td>\n",
       "    </tr>\n",
       "    <tr>\n",
       "      <th>1</th>\n",
       "      <td>UB</td>\n",
       "      <td>NaN</td>\n",
       "      <td>U' M2 U: U2, M</td>\n",
       "      <td>R2 U' S' U2 S U' R2</td>\n",
       "    </tr>\n",
       "    <tr>\n",
       "      <th>2</th>\n",
       "      <td>UL</td>\n",
       "      <td>U' M2 U: M, U2</td>\n",
       "      <td>NaN</td>\n",
       "      <td>M2 U: M, U2</td>\n",
       "    </tr>\n",
       "    <tr>\n",
       "      <th>3</th>\n",
       "      <td>UR</td>\n",
       "      <td>R2 U': S, R2</td>\n",
       "      <td>M2 U': M, U2</td>\n",
       "      <td>NaN</td>\n",
       "    </tr>\n",
       "  </tbody>\n",
       "</table>\n",
       "</div>"
      ],
      "text/plain": [
       "    0               1               2                    3\n",
       "0  UF              UB              UL                   UR\n",
       "1  UB             NaN  U' M2 U: U2, M  R2 U' S' U2 S U' R2\n",
       "2  UL  U' M2 U: M, U2             NaN          M2 U: M, U2\n",
       "3  UR    R2 U': S, R2    M2 U': M, U2                  NaN"
      ]
     },
     "execution_count": 60,
     "metadata": {},
     "output_type": "execute_result"
    }
   ],
   "source": [
    "get_sheet_content('algs.csv')"
   ]
  },
  {
   "cell_type": "code",
   "execution_count": 62,
   "id": "3e6c87e0",
   "metadata": {},
   "outputs": [
    {
     "name": "stdout",
     "output_type": "stream",
     "text": [
      "4\n",
      "4\n"
     ]
    },
    {
     "data": {
      "text/plain": [
       "[\"UF;UL;UB;U' M2 U: U2, M\",\n",
       " \"UF;UR;UB;R2 U' S' U2 S U' R2\",\n",
       " \"UF;UB;UL;U' M2 U: M, U2\",\n",
       " 'UF;UR;UL;M2 U: M, U2',\n",
       " \"UF;UB;UR;R2 U': S, R2\",\n",
       " \"UF;UL;UR;M2 U': M, U2\"]"
      ]
     },
     "execution_count": 62,
     "metadata": {},
     "output_type": "execute_result"
    }
   ],
   "source": [
    "df = get_sheet_content('algs.csv')\n",
    "df_to_alg_list(df)\n"
   ]
  },
  {
   "cell_type": "code",
   "execution_count": 61,
   "id": "575739b6-074f-4915-9345-9aaf1e8a6bdd",
   "metadata": {},
   "outputs": [],
   "source": [
    "import pandas as pd\n",
    "import numpy as np\n",
    "\n",
    "VALID_CHARS = \" UDFBRLMESudfbrlw'/:,2xyz\"\n",
    "\n",
    "def get_sheet_content(filename):\n",
    "    df = pd.read_csv(filename, header=None, sep=';')\n",
    "    df = df.replace(np.nan,'',regex=True)\n",
    "    return df\n",
    "\n",
    "\n",
    "def df_to_alg_list(df):\n",
    "    result = []\n",
    "    print(len(df))\n",
    "    print(len(df.iloc[0]))\n",
    "\n",
    "    for i in range(1, len(df)):\n",
    "        for j in range(1, len(df.iloc[0])):\n",
    "            if df.iloc[i][j]:\n",
    "                alg = clean_alg_entry(df.iloc[i][j])\n",
    "                key = \";\".join([df.iloc[0][0], df.iloc[0][j], df.iloc[i][0], alg])\n",
    "                result.append(key)\n",
    "    return result\n",
    "\n",
    "\n",
    "def clean_alg_entry(alg):\n",
    "    # filtering out invalid chars\n",
    "    alg = ''.join([i for i in alg if i in VALID_CHARS])\n",
    "\n",
    "    # cleaning multiple spaces \n",
    "    alg = ' '.join(alg.split())\n",
    "\n",
    "    # cleaning whitespaces before , : '\n",
    "    i = 0\n",
    "    while i < len(alg):\n",
    "        if alg[i] in \"':,\" and i > 0 and alg[i - 1] == \" \":\n",
    "            alg = alg[:i-1] + alg[i:]\n",
    "        else:\n",
    "            i += 1\n",
    "\n",
    "    return alg\n",
    "\n",
    "\n",
    "def only_latest_algs(data):\n",
    "    return {k: v for k, v in data.items() if v['latest_alg']}\n",
    "\n",
    "\n",
    "def keys_with_given_buffer_and_targets(data, buffer, first_target, second_target):\n",
    "    return [k for k in data if [buffer, first_target, second_target] == k.split(';')[:3]]\n",
    "\n",
    "\n",
    "def is_key_in_dict(data, key):\n",
    "    return key in data\n",
    "\n",
    "\n",
    "def new_record_from_key(key):\n",
    "    key = key.split(';')\n",
    "\n",
    "    return {\n",
    "        'buffer': key[0],\n",
    "        'first_target': key[1],\n",
    "        'second_target': key[2],\n",
    "        'alg': key[3],\n",
    "        'results': [],\n",
    "        'latest': True\n",
    "    }\n",
    "\n",
    "\n",
    "def update_algs():\n",
    "    data = get_data()\n",
    "    algs = get_sheet_content('algs.csv')\n",
    "    algs_list = df_to_alg_list(algs)\n",
    "\n",
    "    for alg in algs_list:\n",
    "        decoded_key = alg.split(';')\n",
    "        existing_algs = keys_with_given_buffer_and_targets(data, decoded_key[0], decoded_key[1], decoded_key[2])\n",
    "\n",
    "        for k in existing_algs:\n",
    "            data[k]['latest'] = False\n",
    "\n",
    "        if alg in data:\n",
    "            data[alg]['latest'] = True\n",
    "        else:\n",
    "            data[alg] = new_record_from_key(alg)\n",
    "\n",
    "    return data"
   ]
  },
  {
   "cell_type": "code",
   "execution_count": 4,
   "id": "a4f30b2c",
   "metadata": {},
   "outputs": [],
   "source": [
    "data = update_algs()\n",
    "save_data(data, 'data_updated.json') "
   ]
  },
  {
   "cell_type": "markdown",
   "id": "c6b8e142",
   "metadata": {},
   "source": [
    "### Updating memo"
   ]
  },
  {
   "cell_type": "code",
   "execution_count": 7,
   "id": "c835d988-f8a3-43d3-89a7-8a1818388a70",
   "metadata": {},
   "outputs": [],
   "source": [
    "def get_words_dict(grid):\n",
    "    result = dict()\n",
    "    for i in range(1, len(grid)):\n",
    "        for j in range(1, len(grid[0])):\n",
    "            if grid[i][j]:\n",
    "                key = f'{grid[0][j]};{grid[i][0]}'\n",
    "                result[key] = grid[i][j]\n",
    "    return result\n",
    "\n",
    "\n",
    "def update_words():\n",
    "    data = get_data()\n",
    "    words = get_sheet_content('memo.csv')\n",
    "    words_dict = get_words_dict(words)\n",
    "\n",
    "    for k, v in data.items():\n",
    "        try:\n",
    "            targets = f\"{v['first_target']};{v['second_target']}\"\n",
    "            data[k]['word'] = words_dict[targets]\n",
    "        except KeyError:\n",
    "            pass\n",
    "            \n",
    "    return data"
   ]
  },
  {
   "cell_type": "markdown",
   "id": "91c7ac17",
   "metadata": {},
   "source": [
    "### Updating LPs"
   ]
  },
  {
   "cell_type": "code",
   "execution_count": 9,
   "id": "5ce0dd2d",
   "metadata": {},
   "outputs": [],
   "source": [
    "def get_lps_dict(grid):\n",
    "    return {i[0]: i[1] for i in grid}\n",
    "\n",
    "def update_LPs():\n",
    "    data = get_data()\n",
    "    lps = get_sheet_content('LP.csv')\n",
    "    lps_dict = get_lps_dict(lps)\n",
    "\n",
    "    for k, v in data.items():\n",
    "        try:\n",
    "            targets = [v['first_target'], v['second_target']]\n",
    "            data[k]['lp'] = ''.join([lps_dict[i] for i in targets])\n",
    "        except KeyError:\n",
    "            pass\n",
    "    \n",
    "    return data"
   ]
  },
  {
   "cell_type": "markdown",
   "id": "56a8d3c1",
   "metadata": {},
   "source": [
    "### Running game"
   ]
  },
  {
   "cell_type": "code",
   "execution_count": 17,
   "id": "1b8b952b-ffa7-4944-b319-cef66c117497",
   "metadata": {},
   "outputs": [],
   "source": [
    "from random import shuffle\n",
    "from datetime import datetime\n",
    "\n",
    "def get_n_random_keys(data, n):\n",
    "    data = {k: v for k, v in data.items() if v['latest']}\n",
    "    keys = list(data)\n",
    "    shuffle(keys)\n",
    "    return keys[:n]    \n",
    "\n",
    "\n",
    "def measure_time():\n",
    "    start = datetime.now()\n",
    "    input()\n",
    "    end = datetime.now()\n",
    "    delta = (end - start).total_seconds()\n",
    "    return round(delta, 2)\n",
    "\n",
    "\n",
    "def display_record(alg):\n",
    "    if 'word' in alg:\n",
    "        print(alg['word'])\n",
    "    elif 'lp' in alg:\n",
    "        print(alg['lp'])\n",
    "    else:\n",
    "        print(f\"{alg['first_target']} {alg['second_target']}\")\n",
    "\n",
    "\n",
    "def get_response():\n",
    "    print()\n",
    "    response = input('Type Y to save results')\n",
    "    return response == 'Y'\n",
    "\n",
    "\n",
    "def add_entries(data, results):\n",
    "    for k, v in results.items():\n",
    "        data[k]['results'].append(v)\n",
    "\n",
    "    save_data(data)\n",
    "\n",
    "def run_game(n):\n",
    "    results_dict = dict()\n",
    "    data = get_data()\n",
    "    algs = get_n_random_keys(data, n)\n",
    "    for alg in algs:\n",
    "        display_record(data[alg])\n",
    "        exec_time = measure_time()\n",
    "        results_dict[alg] = exec_time\n",
    "\n",
    "    print('Results to be saved:')\n",
    "    for k, v in results_dict.items():\n",
    "        print(' '.join(k.split(';')[1:3]), v)\n",
    "\n",
    "    if get_response():\n",
    "        add_entries(data, results_dict)"
   ]
  },
  {
   "cell_type": "markdown",
   "id": "b98e5034",
   "metadata": {},
   "source": [
    "### El śmietniko"
   ]
  },
  {
   "cell_type": "code",
   "execution_count": 66,
   "id": "10713559",
   "metadata": {},
   "outputs": [
    {
     "name": "stdout",
     "output_type": "stream",
     "text": [
      "UF UR UB\n",
      "R2 U: S, R2\n",
      "\n"
     ]
    }
   ],
   "source": [
    "query = {\n",
    "    \"latest\": [False]\n",
    "}\n",
    "\n",
    "filtered_data = filter_data(**query)\n",
    "for k, v in filtered_data.items():\n",
    "    print(v['buffer'], v['first_target'], v['second_target'])\n",
    "    print(v['alg'])\n",
    "    print()"
   ]
  },
  {
   "cell_type": "code",
   "execution_count": 43,
   "id": "23b194e7-04aa-4615-9c14-dffd666be44f",
   "metadata": {},
   "outputs": [
    {
     "data": {
      "text/plain": [
       "\"R: R E' R', U'\""
      ]
     },
     "execution_count": 43,
     "metadata": {},
     "output_type": "execute_result"
    }
   ],
   "source": [
    "alg = \"[Ra    :  R  (1E ' 6  R    '&&   , %9 U       ']\"\n",
    "clean_alg_entry(alg)"
   ]
  },
  {
   "cell_type": "code",
   "execution_count": 68,
   "id": "5355d82e",
   "metadata": {},
   "outputs": [],
   "source": [
    "save_data(update_words())"
   ]
  },
  {
   "cell_type": "code",
   "execution_count": 69,
   "id": "0f644ea7-a99a-486e-a5ec-8f06c41b5e94",
   "metadata": {},
   "outputs": [
    {
     "name": "stdout",
     "output_type": "stream",
     "text": [
      "Arbuz\n",
      "Bat\n",
      "Cable\n",
      "Acid\n",
      "Baca\n",
      "Results to be saved:\n",
      "UB UL 0.71\n",
      "UL UB 0.92\n",
      "UR UL 1.29\n",
      "UB UR 2.81\n",
      "UL UR 3.06\n",
      "\n"
     ]
    }
   ],
   "source": [
    "run_game(5)"
   ]
  },
  {
   "cell_type": "code",
   "execution_count": 31,
   "id": "61b22b1b-a3e3-4f65-a42f-a58fe6f98234",
   "metadata": {},
   "outputs": [],
   "source": [
    "import pandas as pd\n",
    "\n",
    "df = pd.read_excel('data.xlsx', sheet_name = None) # can also index sheet by name or fetch all sheets\n",
    "df_uf = df['UF']"
   ]
  },
  {
   "cell_type": "code",
   "execution_count": 35,
   "id": "44c32ea5",
   "metadata": {},
   "outputs": [
    {
     "data": {
      "text/plain": [
       "'UB'"
      ]
     },
     "execution_count": 35,
     "metadata": {},
     "output_type": "execute_result"
    }
   ],
   "source": [
    "df_uf.iloc[0][0]"
   ]
  },
  {
   "cell_type": "code",
   "execution_count": 37,
   "id": "1c8a0026",
   "metadata": {},
   "outputs": [
    {
     "data": {
      "text/plain": [
       "'UF'"
      ]
     },
     "execution_count": 37,
     "metadata": {},
     "output_type": "execute_result"
    }
   ],
   "source": [
    "df_uf.keys()[0]"
   ]
  },
  {
   "cell_type": "code",
   "execution_count": 44,
   "id": "7451af4d",
   "metadata": {},
   "outputs": [],
   "source": [
    "df2 = pd.read_csv('algs.csv', sep=';', header=None)"
   ]
  },
  {
   "cell_type": "code",
   "execution_count": 45,
   "id": "9c541eb3",
   "metadata": {},
   "outputs": [
    {
     "data": {
      "text/html": [
       "<div>\n",
       "<style scoped>\n",
       "    .dataframe tbody tr th:only-of-type {\n",
       "        vertical-align: middle;\n",
       "    }\n",
       "\n",
       "    .dataframe tbody tr th {\n",
       "        vertical-align: top;\n",
       "    }\n",
       "\n",
       "    .dataframe thead th {\n",
       "        text-align: right;\n",
       "    }\n",
       "</style>\n",
       "<table border=\"1\" class=\"dataframe\">\n",
       "  <thead>\n",
       "    <tr style=\"text-align: right;\">\n",
       "      <th></th>\n",
       "      <th>0</th>\n",
       "      <th>1</th>\n",
       "      <th>2</th>\n",
       "      <th>3</th>\n",
       "    </tr>\n",
       "  </thead>\n",
       "  <tbody>\n",
       "    <tr>\n",
       "      <th>0</th>\n",
       "      <td>UF</td>\n",
       "      <td>UB</td>\n",
       "      <td>UL</td>\n",
       "      <td>UR</td>\n",
       "    </tr>\n",
       "    <tr>\n",
       "      <th>1</th>\n",
       "      <td>UB</td>\n",
       "      <td>NaN</td>\n",
       "      <td>U' M2 U: U2, M</td>\n",
       "      <td>R2 U' S' U2 S U' R2</td>\n",
       "    </tr>\n",
       "    <tr>\n",
       "      <th>2</th>\n",
       "      <td>UL</td>\n",
       "      <td>U' M2 U: M, U2</td>\n",
       "      <td>NaN</td>\n",
       "      <td>M2 U: M, U2</td>\n",
       "    </tr>\n",
       "    <tr>\n",
       "      <th>3</th>\n",
       "      <td>UR</td>\n",
       "      <td>R2 U': S, R2</td>\n",
       "      <td>M2 U': M, U2</td>\n",
       "      <td>NaN</td>\n",
       "    </tr>\n",
       "  </tbody>\n",
       "</table>\n",
       "</div>"
      ],
      "text/plain": [
       "    0               1               2                    3\n",
       "0  UF              UB              UL                   UR\n",
       "1  UB             NaN  U' M2 U: U2, M  R2 U' S' U2 S U' R2\n",
       "2  UL  U' M2 U: M, U2             NaN          M2 U: M, U2\n",
       "3  UR    R2 U': S, R2    M2 U': M, U2                  NaN"
      ]
     },
     "execution_count": 45,
     "metadata": {},
     "output_type": "execute_result"
    }
   ],
   "source": [
    "df2"
   ]
  },
  {
   "cell_type": "code",
   "execution_count": 47,
   "id": "3ebf3f5e",
   "metadata": {},
   "outputs": [
    {
     "data": {
      "text/plain": [
       "\"U' M2 U: M, U2\""
      ]
     },
     "execution_count": 47,
     "metadata": {},
     "output_type": "execute_result"
    }
   ],
   "source": [
    "df2.iloc[2][1]"
   ]
  },
  {
   "cell_type": "code",
   "execution_count": 56,
   "id": "40513f66",
   "metadata": {},
   "outputs": [
    {
     "ename": "TypeError",
     "evalue": "'float' object is not iterable",
     "output_type": "error",
     "traceback": [
      "\u001b[1;31m---------------------------------------------------------------------------\u001b[0m",
      "\u001b[1;31mTypeError\u001b[0m                                 Traceback (most recent call last)",
      "Cell \u001b[1;32mIn[56], line 2\u001b[0m\n\u001b[0;32m      1\u001b[0m df \u001b[39m=\u001b[39m get_sheet_content(\u001b[39m'\u001b[39m\u001b[39malgs.csv\u001b[39m\u001b[39m'\u001b[39m)\n\u001b[1;32m----> 2\u001b[0m df_to_alg_list(df)\n",
      "Cell \u001b[1;32mIn[55], line 14\u001b[0m, in \u001b[0;36mdf_to_alg_list\u001b[1;34m(df)\u001b[0m\n\u001b[0;32m     12\u001b[0m \u001b[39mfor\u001b[39;00m j \u001b[39min\u001b[39;00m \u001b[39mrange\u001b[39m(\u001b[39m1\u001b[39m, \u001b[39mlen\u001b[39m(df\u001b[39m.\u001b[39miloc[\u001b[39m0\u001b[39m])):\n\u001b[0;32m     13\u001b[0m     \u001b[39mif\u001b[39;00m df\u001b[39m.\u001b[39miloc[i][j]:\n\u001b[1;32m---> 14\u001b[0m         alg \u001b[39m=\u001b[39m clean_alg_entry(df\u001b[39m.\u001b[39;49miloc[i][j])\n\u001b[0;32m     15\u001b[0m         key \u001b[39m=\u001b[39m \u001b[39m\"\u001b[39m\u001b[39m;\u001b[39m\u001b[39m\"\u001b[39m\u001b[39m.\u001b[39mjoin([df\u001b[39m.\u001b[39miloc[\u001b[39m0\u001b[39m][\u001b[39m0\u001b[39m], df\u001b[39m.\u001b[39miloc[\u001b[39m0\u001b[39m][j], df\u001b[39m.\u001b[39miloc[i][\u001b[39m0\u001b[39m], alg])\n\u001b[0;32m     16\u001b[0m         result\u001b[39m.\u001b[39mappend(key)\n",
      "Cell \u001b[1;32mIn[55], line 22\u001b[0m, in \u001b[0;36mclean_alg_entry\u001b[1;34m(alg)\u001b[0m\n\u001b[0;32m     20\u001b[0m \u001b[39mdef\u001b[39;00m \u001b[39mclean_alg_entry\u001b[39m(alg):\n\u001b[0;32m     21\u001b[0m     \u001b[39m# filtering out invalid chars\u001b[39;00m\n\u001b[1;32m---> 22\u001b[0m     alg \u001b[39m=\u001b[39m \u001b[39m'\u001b[39m\u001b[39m'\u001b[39m\u001b[39m.\u001b[39mjoin([i \u001b[39mfor\u001b[39;00m i \u001b[39min\u001b[39;00m alg \u001b[39mif\u001b[39;00m i \u001b[39min\u001b[39;00m VALID_CHARS])\n\u001b[0;32m     24\u001b[0m     \u001b[39m# cleaning multiple spaces \u001b[39;00m\n\u001b[0;32m     25\u001b[0m     alg \u001b[39m=\u001b[39m \u001b[39m'\u001b[39m\u001b[39m \u001b[39m\u001b[39m'\u001b[39m\u001b[39m.\u001b[39mjoin(alg\u001b[39m.\u001b[39msplit())\n",
      "\u001b[1;31mTypeError\u001b[0m: 'float' object is not iterable"
     ]
    }
   ],
   "source": []
  },
  {
   "cell_type": "code",
   "execution_count": null,
   "id": "ae771d95",
   "metadata": {},
   "outputs": [],
   "source": []
  }
 ],
 "metadata": {
  "kernelspec": {
   "display_name": "Python 3.10.6 64-bit",
   "language": "python",
   "name": "python3"
  },
  "language_info": {
   "codemirror_mode": {
    "name": "ipython",
    "version": 3
   },
   "file_extension": ".py",
   "mimetype": "text/x-python",
   "name": "python",
   "nbconvert_exporter": "python",
   "pygments_lexer": "ipython3",
   "version": "3.11.4"
  },
  "vscode": {
   "interpreter": {
    "hash": "aee8b7b246df8f9039afb4144a1f6fd8d2ca17a180786b69acc140d282b71a49"
   }
  }
 },
 "nbformat": 4,
 "nbformat_minor": 5
}
