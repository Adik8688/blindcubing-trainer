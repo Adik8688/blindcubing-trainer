{
 "cells": [
  {
   "cell_type": "markdown",
   "id": "11064088",
   "metadata": {},
   "source": [
    "## Functions trash bin"
   ]
  },
  {
   "cell_type": "markdown",
   "id": "703e4f63",
   "metadata": {},
   "source": [
    "### Modifying file"
   ]
  },
  {
   "cell_type": "code",
   "execution_count": 1,
   "id": "ef9953e8-7244-4195-9c5a-e97415ea398d",
   "metadata": {},
   "outputs": [],
   "source": [
    "import json\n",
    "\n",
    "def get_data(filename='data.json'):\n",
    "    with open(filename, 'r') as f:\n",
    "        return json.load(f)\n",
    "\n",
    "\n",
    "def save_data(data, filename='data.json'):\n",
    "    with open(filename, 'w') as f:\n",
    "        json.dump(data, f, indent=2)"
   ]
  },
  {
   "cell_type": "markdown",
   "id": "ce562325",
   "metadata": {},
   "source": [
    "### Filtering data"
   ]
  },
  {
   "cell_type": "code",
   "execution_count": 2,
   "id": "d4c2292d",
   "metadata": {},
   "outputs": [
    {
     "ename": "SyntaxError",
     "evalue": "invalid syntax (3918700285.py, line 10)",
     "output_type": "error",
     "traceback": [
      "\u001b[1;36m  Cell \u001b[1;32mIn[2], line 10\u001b[1;36m\u001b[0m\n\u001b[1;33m    if\u001b[0m\n\u001b[1;37m       ^\u001b[0m\n\u001b[1;31mSyntaxError\u001b[0m\u001b[1;31m:\u001b[0m invalid syntax\n"
     ]
    }
   ],
   "source": [
    "def filter_data(buffer=[], first_target=[], second_target=[], latest = []):\n",
    "    data = get_data()\n",
    "    result = dict()\n",
    "\n",
    "    for k, v in data.items():\n",
    "        if buffer and v['buffer'] not in buffer:\n",
    "            continue\n",
    "        if first_target and v['targets'].split()[0] not in first_target:\n",
    "            continue\n",
    "        if \n"
   ]
  },
  {
   "cell_type": "markdown",
   "id": "a060a6e3",
   "metadata": {},
   "source": [
    "### Updating algs"
   ]
  },
  {
   "cell_type": "code",
   "execution_count": 5,
   "id": "575739b6-074f-4915-9345-9aaf1e8a6bdd",
   "metadata": {},
   "outputs": [],
   "source": [
    "VALID_CHARS = \" UDFBRLMESudfbrlw'/:,2xyz\"\n",
    "\n",
    "def get_sheet_content(filename):\n",
    "    with open(filename) as f:\n",
    "        return [i.strip().split(';') for i in f]\n",
    "\n",
    "\n",
    "def grid_to_alg_list(grid):\n",
    "    result = []\n",
    "    for i in range(1, len(grid)):\n",
    "        for j in range(1, len(grid[0])):\n",
    "            if grid[i][j]:\n",
    "                alg = clean_alg_entry(grid[i][j])\n",
    "                key = \";\".join([grid[0][0], grid[0][j], grid[i][0], alg])\n",
    "                result.append(key)\n",
    "    return result\n",
    "\n",
    "\n",
    "def clean_alg_entry(alg):\n",
    "    # filtering out invalid chars\n",
    "    alg = ''.join([i for i in alg if i in VALID_CHARS])\n",
    "\n",
    "    # cleaning multiple spaces \n",
    "    alg = ' '.join(alg.split())\n",
    "\n",
    "    # cleaning whitespaces before , : '\n",
    "    i = 0\n",
    "    while i < len(alg):\n",
    "        if alg[i] in \"':,\" and i > 0 and alg[i - 1] == \" \":\n",
    "            alg = alg[:i-1] + alg[i:]\n",
    "        else:\n",
    "            i += 1\n",
    "\n",
    "    return alg\n",
    "\n",
    "\n",
    "def only_latest_algs(data):\n",
    "    return {k: v for k, v in data.items() if v['latest_alg']}\n",
    "\n",
    "\n",
    "def keys_with_given_buffer_and_targets(data, buffer, first_target, second_target):\n",
    "    return [k for k in data if [buffer, first_target, second_target] == k.split(';')[:3]]\n",
    "\n",
    "\n",
    "def is_key_in_dict(data, key):\n",
    "    return key in data\n",
    "\n",
    "\n",
    "def new_record_from_key(key):\n",
    "    key = key.split(';')\n",
    "\n",
    "    return {\n",
    "        'buffer': key[0],\n",
    "        'first_target': key[1],\n",
    "        'second_target': key[2],\n",
    "        'alg': key[3],\n",
    "        'results': [],\n",
    "        'latest': True\n",
    "    }\n",
    "\n",
    "\n",
    "def update_algs():\n",
    "    data = get_data()\n",
    "    algs = get_sheet_content('algs.csv')\n",
    "    algs_list = grid_to_alg_list(algs)\n",
    "\n",
    "    for alg in algs_list:\n",
    "        decoded_key = alg.split(';')\n",
    "        existing_algs = keys_with_given_buffer_and_targets(data, decoded_key[0], decoded_key[1], decoded_key[2])\n",
    "\n",
    "        for k in existing_algs:\n",
    "            data[k]['latest'] = False\n",
    "\n",
    "        if alg in data:\n",
    "            data[alg]['latest'] = True\n",
    "        else:\n",
    "            data[alg] = new_record_from_key(alg)\n",
    "\n",
    "    return data"
   ]
  },
  {
   "cell_type": "code",
   "execution_count": 6,
   "id": "a4f30b2c",
   "metadata": {},
   "outputs": [],
   "source": [
    "data = update_algs()\n",
    "save_data(data, 'data_updated.json') "
   ]
  },
  {
   "cell_type": "markdown",
   "id": "c6b8e142",
   "metadata": {},
   "source": [
    "### Updating memo"
   ]
  },
  {
   "cell_type": "code",
   "execution_count": 14,
   "id": "c835d988-f8a3-43d3-89a7-8a1818388a70",
   "metadata": {},
   "outputs": [],
   "source": [
    "def get_words_dict(grid):\n",
    "    result = dict()\n",
    "    for i in range(1, len(grid)):\n",
    "        for j in range(1, len(grid[0])):\n",
    "            if grid[i][j]:\n",
    "                key = f'{grid[0][j]};{grid[i][0]}'\n",
    "                result[key] = grid[i][j]\n",
    "    return result\n",
    "\n",
    "\n",
    "def update_words():\n",
    "    data = get_data()\n",
    "    words = get_sheet_content('memo.csv')\n",
    "    words_dict = get_words_dict(words)\n",
    "\n",
    "    for k, v in data.items():\n",
    "        try:\n",
    "            targets = f\"{v['first_target']};{v['second_target']}\"\n",
    "            data[k]['word'] = words_dict[targets]\n",
    "        if  in words_dict:\n",
    "            \n",
    "\n",
    "    return data\n",
    "\n",
    "\n"
   ]
  },
  {
   "cell_type": "code",
   "execution_count": 15,
   "id": "68dbf71d",
   "metadata": {},
   "outputs": [
    {
     "ename": "KeyError",
     "evalue": "'targets'",
     "output_type": "error",
     "traceback": [
      "\u001b[1;31m---------------------------------------------------------------------------\u001b[0m",
      "\u001b[1;31mKeyError\u001b[0m                                  Traceback (most recent call last)",
      "Cell \u001b[1;32mIn[15], line 1\u001b[0m\n\u001b[1;32m----> 1\u001b[0m update_words()\n",
      "Cell \u001b[1;32mIn[14], line 17\u001b[0m, in \u001b[0;36mupdate_words\u001b[1;34m()\u001b[0m\n\u001b[0;32m     15\u001b[0m \u001b[39mfor\u001b[39;00m k, v \u001b[39min\u001b[39;00m data\u001b[39m.\u001b[39mitems():\n\u001b[0;32m     16\u001b[0m     \u001b[39mif\u001b[39;00m \u001b[39mf\u001b[39m\u001b[39m\"\u001b[39m\u001b[39m{\u001b[39;00mv[\u001b[39m'\u001b[39m\u001b[39mfirst_target\u001b[39m\u001b[39m'\u001b[39m]\u001b[39m}\u001b[39;00m\u001b[39m;\u001b[39m\u001b[39m{\u001b[39;00mv[\u001b[39m'\u001b[39m\u001b[39msecond_target\u001b[39m\u001b[39m'\u001b[39m]\u001b[39m}\u001b[39;00m\u001b[39m\"\u001b[39m \u001b[39min\u001b[39;00m words_dict:\n\u001b[1;32m---> 17\u001b[0m         data[k][\u001b[39m'\u001b[39m\u001b[39mword\u001b[39m\u001b[39m'\u001b[39m] \u001b[39m=\u001b[39m words_dict[v[\u001b[39m'\u001b[39;49m\u001b[39mtargets\u001b[39;49m\u001b[39m'\u001b[39;49m]]\n\u001b[0;32m     19\u001b[0m \u001b[39mreturn\u001b[39;00m data\n",
      "\u001b[1;31mKeyError\u001b[0m: 'targets'"
     ]
    }
   ],
   "source": [
    "update_words()"
   ]
  },
  {
   "cell_type": "markdown",
   "id": "91c7ac17",
   "metadata": {},
   "source": [
    "### Updating LPs"
   ]
  },
  {
   "cell_type": "code",
   "execution_count": 10,
   "id": "5ce0dd2d",
   "metadata": {},
   "outputs": [],
   "source": [
    "def get_lps_dict(grid):\n",
    "    return {i[0]: i[1] for i in grid}\n",
    "\n",
    "def update_LPs():\n",
    "    data = get_data()\n",
    "    lps = get_sheet_content('LP.csv')\n",
    "    lps_dict = get_lps_dict(lps)\n",
    "\n",
    "    for k, v in data.items():\n",
    "        try:\n",
    "            targets = v['targets'].split()\n",
    "            data[k]['lp'] = ''.join([lps_dict[i] for i in targets])\n",
    "        except KeyError:\n",
    "            pass\n",
    "    \n",
    "    return data"
   ]
  },
  {
   "cell_type": "code",
   "execution_count": 12,
   "id": "34fe8417",
   "metadata": {},
   "outputs": [
    {
     "data": {
      "text/plain": [
       "{\"UF;UL;UB;U' M2 U: U2, M\": {'buffer': 'UF',\n",
       "  'first_target': 'UL',\n",
       "  'second_target': 'UB',\n",
       "  'alg': \"U' M2 U: U2, M\",\n",
       "  'results': [],\n",
       "  'latest': True},\n",
       " 'UF;UR;UB;R2 U: S, R2': {'buffer': 'UF',\n",
       "  'first_target': 'UR',\n",
       "  'second_target': 'UB',\n",
       "  'alg': 'R2 U: S, R2',\n",
       "  'results': [],\n",
       "  'latest': True},\n",
       " \"UF;UB;UL;U' M2 U: M, U2\": {'buffer': 'UF',\n",
       "  'first_target': 'UB',\n",
       "  'second_target': 'UL',\n",
       "  'alg': \"U' M2 U: M, U2\",\n",
       "  'results': [],\n",
       "  'latest': True},\n",
       " 'UF;UR;UL;M2 U: M, U2': {'buffer': 'UF',\n",
       "  'first_target': 'UR',\n",
       "  'second_target': 'UL',\n",
       "  'alg': 'M2 U: M, U2',\n",
       "  'results': [],\n",
       "  'latest': True},\n",
       " \"UF;UB;UR;R2 U': S, R2\": {'buffer': 'UF',\n",
       "  'first_target': 'UB',\n",
       "  'second_target': 'UR',\n",
       "  'alg': \"R2 U': S, R2\",\n",
       "  'results': [],\n",
       "  'latest': True},\n",
       " \"UF;UL;UR;M2 U': M, U2\": {'buffer': 'UF',\n",
       "  'first_target': 'UL',\n",
       "  'second_target': 'UR',\n",
       "  'alg': \"M2 U': M, U2\",\n",
       "  'results': [],\n",
       "  'latest': True}}"
      ]
     },
     "execution_count": 12,
     "metadata": {},
     "output_type": "execute_result"
    }
   ],
   "source": [
    "update_LPs()"
   ]
  },
  {
   "cell_type": "markdown",
   "id": "56a8d3c1",
   "metadata": {},
   "source": [
    "### Running game"
   ]
  },
  {
   "cell_type": "code",
   "execution_count": 69,
   "id": "1b8b952b-ffa7-4944-b319-cef66c117497",
   "metadata": {},
   "outputs": [],
   "source": [
    "from random import shuffle\n",
    "from datetime import datetime\n",
    "\n",
    "def get_n_random_keys(data, n):\n",
    "    data = {k: v for k, v in data.items() if v['latest']}\n",
    "    keys = list(data)\n",
    "    shuffle(keys)\n",
    "    return keys[:n]    \n",
    "\n",
    "\n",
    "def measure_time():\n",
    "    start = datetime.now()\n",
    "    input()\n",
    "    end = datetime.now()\n",
    "    delta = (end - start).total_seconds()\n",
    "    return round(delta, 2)\n",
    "\n",
    "\n",
    "def display_record(alg):\n",
    "    if 'word' in alg:\n",
    "        print(alg['word'])\n",
    "    elif 'lp' in alg:\n",
    "        print(alg['lp'])\n",
    "    else:\n",
    "        print(alg['targets'])\n",
    "\n",
    "\n",
    "def get_response():\n",
    "    print()\n",
    "    response = input('Type Y to save results')\n",
    "    return response == 'Y'\n",
    "\n",
    "\n",
    "def add_entries(data, results):\n",
    "    for k, v in results.items():\n",
    "        data[k]['results'].append(v)\n",
    "\n",
    "    save_data(data)\n",
    "\n",
    "def run_game(n):\n",
    "    results_dict = dict()\n",
    "    data = get_data()\n",
    "    algs = get_n_random_keys(data, n)\n",
    "    for alg in algs:\n",
    "        display_record(data[alg])\n",
    "        exec_time = measure_time()\n",
    "        results_dict[alg] = exec_time\n",
    "\n",
    "    print('Results to be saved:')\n",
    "    for k, v in results_dict.items():\n",
    "        print(k.split(';')[1], v)\n",
    "\n",
    "    if get_response():\n",
    "        add_entries(data, results_dict)"
   ]
  },
  {
   "cell_type": "markdown",
   "id": "b98e5034",
   "metadata": {},
   "source": [
    "### El śmietniko"
   ]
  },
  {
   "cell_type": "code",
   "execution_count": 43,
   "id": "23b194e7-04aa-4615-9c14-dffd666be44f",
   "metadata": {},
   "outputs": [
    {
     "data": {
      "text/plain": [
       "\"R: R E' R', U'\""
      ]
     },
     "execution_count": 43,
     "metadata": {},
     "output_type": "execute_result"
    }
   ],
   "source": [
    "alg = \"[Ra    :  R  (1E ' 6  R    '&&   , %9 U       ']\"\n",
    "clean_alg_entry(alg)"
   ]
  },
  {
   "cell_type": "code",
   "execution_count": 54,
   "id": "5355d82e",
   "metadata": {},
   "outputs": [
    {
     "data": {
      "text/plain": [
       "{'UL UB': 'Bat',\n",
       " 'UR UB': 'Czas',\n",
       " 'UB UL': 'Arbuz',\n",
       " 'UR UL': 'Cable',\n",
       " 'UB UR': 'Acid',\n",
       " 'UL UR': 'Baca'}"
      ]
     },
     "execution_count": 54,
     "metadata": {},
     "output_type": "execute_result"
    }
   ],
   "source": [
    "words = get_sheet_content('memo.csv')\n",
    "get_words_dict(words)"
   ]
  },
  {
   "cell_type": "code",
   "execution_count": 60,
   "id": "0f644ea7-a99a-486e-a5ec-8f06c41b5e94",
   "metadata": {},
   "outputs": [
    {
     "name": "stdout",
     "output_type": "stream",
     "text": [
      "Arbuz\n",
      "Czas\n",
      "Baca\n",
      "Cable\n",
      "Acid\n",
      "Results to be saved:\n",
      "UB UL 1.32\n",
      "UR UB 1.37\n",
      "UL UR 1.19\n",
      "UR UL 1.04\n",
      "UB UR 1.17\n",
      "\n"
     ]
    }
   ],
   "source": [
    "run_game(5)"
   ]
  },
  {
   "cell_type": "code",
   "execution_count": null,
   "id": "61b22b1b-a3e3-4f65-a42f-a58fe6f98234",
   "metadata": {},
   "outputs": [],
   "source": []
  }
 ],
 "metadata": {
  "kernelspec": {
   "display_name": "Python 3.10.6 64-bit",
   "language": "python",
   "name": "python3"
  },
  "language_info": {
   "codemirror_mode": {
    "name": "ipython",
    "version": 3
   },
   "file_extension": ".py",
   "mimetype": "text/x-python",
   "name": "python",
   "nbconvert_exporter": "python",
   "pygments_lexer": "ipython3",
   "version": "3.11.4"
  },
  "vscode": {
   "interpreter": {
    "hash": "aee8b7b246df8f9039afb4144a1f6fd8d2ca17a180786b69acc140d282b71a49"
   }
  }
 },
 "nbformat": 4,
 "nbformat_minor": 5
}
