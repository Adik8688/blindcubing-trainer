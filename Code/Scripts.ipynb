{
 "cells": [
  {
   "cell_type": "markdown",
   "id": "11064088",
   "metadata": {},
   "source": [
    "## Functions trash bin"
   ]
  },
  {
   "cell_type": "markdown",
   "id": "703e4f63",
   "metadata": {},
   "source": [
    "### Modifying file"
   ]
  },
  {
   "cell_type": "code",
   "execution_count": 1,
   "id": "ef9953e8-7244-4195-9c5a-e97415ea398d",
   "metadata": {},
   "outputs": [],
   "source": [
    "import json\n",
    "\n",
    "def get_data(filename='data.json'):\n",
    "    with open(filename, 'r') as f:\n",
    "        return json.load(f)\n",
    "\n",
    "\n",
    "def save_data(data, filename='data.json'):\n",
    "    with open(filename, 'w') as f:\n",
    "        json.dump(data, f, indent=2)"
   ]
  },
  {
   "cell_type": "markdown",
   "id": "ce562325",
   "metadata": {},
   "source": [
    "### Filtering data"
   ]
  },
  {
   "cell_type": "code",
   "execution_count": 64,
   "id": "d4c2292d",
   "metadata": {},
   "outputs": [],
   "source": [
    "def filter_data(**attributes):\n",
    "    data = get_data()\n",
    "    result = dict()\n",
    "\n",
    "    for k, v in data.items():\n",
    "        if not any(v[k1] not in v1 for k1, v1 in attributes.items()):\n",
    "            result[k] = v\n",
    "    \n",
    "    return result"
   ]
  },
  {
   "cell_type": "markdown",
   "id": "a060a6e3",
   "metadata": {},
   "source": [
    "### Updating algs"
   ]
  },
  {
   "cell_type": "code",
   "execution_count": 3,
   "id": "575739b6-074f-4915-9345-9aaf1e8a6bdd",
   "metadata": {},
   "outputs": [],
   "source": [
    "VALID_CHARS = \" UDFBRLMESudfbrlw'/:,2xyz\"\n",
    "\n",
    "def get_sheet_content(filename):\n",
    "    with open(filename) as f:\n",
    "        return [i.strip().split(';') for i in f]\n",
    "\n",
    "\n",
    "def grid_to_alg_list(grid):\n",
    "    result = []\n",
    "    for i in range(1, len(grid)):\n",
    "        for j in range(1, len(grid[0])):\n",
    "            if grid[i][j]:\n",
    "                alg = clean_alg_entry(grid[i][j])\n",
    "                key = \";\".join([grid[0][0], grid[0][j], grid[i][0], alg])\n",
    "                result.append(key)\n",
    "    return result\n",
    "\n",
    "\n",
    "def clean_alg_entry(alg):\n",
    "    # filtering out invalid chars\n",
    "    alg = ''.join([i for i in alg if i in VALID_CHARS])\n",
    "\n",
    "    # cleaning multiple spaces \n",
    "    alg = ' '.join(alg.split())\n",
    "\n",
    "    # cleaning whitespaces before , : '\n",
    "    i = 0\n",
    "    while i < len(alg):\n",
    "        if alg[i] in \"':,\" and i > 0 and alg[i - 1] == \" \":\n",
    "            alg = alg[:i-1] + alg[i:]\n",
    "        else:\n",
    "            i += 1\n",
    "\n",
    "    return alg\n",
    "\n",
    "\n",
    "def only_latest_algs(data):\n",
    "    return {k: v for k, v in data.items() if v['latest_alg']}\n",
    "\n",
    "\n",
    "def keys_with_given_buffer_and_targets(data, buffer, first_target, second_target):\n",
    "    return [k for k in data if [buffer, first_target, second_target] == k.split(';')[:3]]\n",
    "\n",
    "\n",
    "def is_key_in_dict(data, key):\n",
    "    return key in data\n",
    "\n",
    "\n",
    "def new_record_from_key(key):\n",
    "    key = key.split(';')\n",
    "\n",
    "    return {\n",
    "        'buffer': key[0],\n",
    "        'first_target': key[1],\n",
    "        'second_target': key[2],\n",
    "        'alg': key[3],\n",
    "        'results': [],\n",
    "        'latest': True\n",
    "    }\n",
    "\n",
    "\n",
    "def update_algs():\n",
    "    data = get_data()\n",
    "    algs = get_sheet_content('algs.csv')\n",
    "    algs_list = grid_to_alg_list(algs)\n",
    "\n",
    "    for alg in algs_list:\n",
    "        decoded_key = alg.split(';')\n",
    "        existing_algs = keys_with_given_buffer_and_targets(data, decoded_key[0], decoded_key[1], decoded_key[2])\n",
    "\n",
    "        for k in existing_algs:\n",
    "            data[k]['latest'] = False\n",
    "\n",
    "        if alg in data:\n",
    "            data[alg]['latest'] = True\n",
    "        else:\n",
    "            data[alg] = new_record_from_key(alg)\n",
    "\n",
    "    return data"
   ]
  },
  {
   "cell_type": "code",
   "execution_count": 4,
   "id": "a4f30b2c",
   "metadata": {},
   "outputs": [],
   "source": [
    "data = update_algs()\n",
    "save_data(data, 'data_updated.json') "
   ]
  },
  {
   "cell_type": "markdown",
   "id": "c6b8e142",
   "metadata": {},
   "source": [
    "### Updating memo"
   ]
  },
  {
   "cell_type": "code",
   "execution_count": 7,
   "id": "c835d988-f8a3-43d3-89a7-8a1818388a70",
   "metadata": {},
   "outputs": [],
   "source": [
    "def get_words_dict(grid):\n",
    "    result = dict()\n",
    "    for i in range(1, len(grid)):\n",
    "        for j in range(1, len(grid[0])):\n",
    "            if grid[i][j]:\n",
    "                key = f'{grid[0][j]};{grid[i][0]}'\n",
    "                result[key] = grid[i][j]\n",
    "    return result\n",
    "\n",
    "\n",
    "def update_words():\n",
    "    data = get_data()\n",
    "    words = get_sheet_content('memo.csv')\n",
    "    words_dict = get_words_dict(words)\n",
    "\n",
    "    for k, v in data.items():\n",
    "        try:\n",
    "            targets = f\"{v['first_target']};{v['second_target']}\"\n",
    "            data[k]['word'] = words_dict[targets]\n",
    "        except KeyError:\n",
    "            pass\n",
    "            \n",
    "    return data"
   ]
  },
  {
   "cell_type": "markdown",
   "id": "91c7ac17",
   "metadata": {},
   "source": [
    "### Updating LPs"
   ]
  },
  {
   "cell_type": "code",
   "execution_count": 9,
   "id": "5ce0dd2d",
   "metadata": {},
   "outputs": [],
   "source": [
    "def get_lps_dict(grid):\n",
    "    return {i[0]: i[1] for i in grid}\n",
    "\n",
    "def update_LPs():\n",
    "    data = get_data()\n",
    "    lps = get_sheet_content('LP.csv')\n",
    "    lps_dict = get_lps_dict(lps)\n",
    "\n",
    "    for k, v in data.items():\n",
    "        try:\n",
    "            targets = [v['first_target'], v['second_target']]\n",
    "            data[k]['lp'] = ''.join([lps_dict[i] for i in targets])\n",
    "        except KeyError:\n",
    "            pass\n",
    "    \n",
    "    return data"
   ]
  },
  {
   "cell_type": "markdown",
   "id": "56a8d3c1",
   "metadata": {},
   "source": [
    "### Running game"
   ]
  },
  {
   "cell_type": "code",
   "execution_count": 17,
   "id": "1b8b952b-ffa7-4944-b319-cef66c117497",
   "metadata": {},
   "outputs": [],
   "source": [
    "from random import shuffle\n",
    "from datetime import datetime\n",
    "\n",
    "def get_n_random_keys(data, n):\n",
    "    data = {k: v for k, v in data.items() if v['latest']}\n",
    "    keys = list(data)\n",
    "    shuffle(keys)\n",
    "    return keys[:n]    \n",
    "\n",
    "\n",
    "def measure_time():\n",
    "    start = datetime.now()\n",
    "    input()\n",
    "    end = datetime.now()\n",
    "    delta = (end - start).total_seconds()\n",
    "    return round(delta, 2)\n",
    "\n",
    "\n",
    "def display_record(alg):\n",
    "    if 'word' in alg:\n",
    "        print(alg['word'])\n",
    "    elif 'lp' in alg:\n",
    "        print(alg['lp'])\n",
    "    else:\n",
    "        print(f\"{alg['first_target']} {alg['second_target']}\")\n",
    "\n",
    "\n",
    "def get_response():\n",
    "    print()\n",
    "    response = input('Type Y to save results')\n",
    "    return response == 'Y'\n",
    "\n",
    "\n",
    "def add_entries(data, results):\n",
    "    for k, v in results.items():\n",
    "        data[k]['results'].append(v)\n",
    "\n",
    "    save_data(data)\n",
    "\n",
    "def run_game(n):\n",
    "    results_dict = dict()\n",
    "    data = get_data()\n",
    "    algs = get_n_random_keys(data, n)\n",
    "    for alg in algs:\n",
    "        display_record(data[alg])\n",
    "        exec_time = measure_time()\n",
    "        results_dict[alg] = exec_time\n",
    "\n",
    "    print('Results to be saved:')\n",
    "    for k, v in results_dict.items():\n",
    "        print(' '.join(k.split(';')[1:3]), v)\n",
    "\n",
    "    if get_response():\n",
    "        add_entries(data, results_dict)"
   ]
  },
  {
   "cell_type": "markdown",
   "id": "b98e5034",
   "metadata": {},
   "source": [
    "### El śmietniko"
   ]
  },
  {
   "cell_type": "code",
   "execution_count": 66,
   "id": "10713559",
   "metadata": {},
   "outputs": [
    {
     "name": "stdout",
     "output_type": "stream",
     "text": [
      "UF UR UB\n",
      "R2 U: S, R2\n",
      "\n"
     ]
    }
   ],
   "source": [
    "query = {\n",
    "    \"latest\": [False]\n",
    "}\n",
    "\n",
    "filtered_data = filter_data(**query)\n",
    "for k, v in filtered_data.items():\n",
    "    print(v['buffer'], v['first_target'], v['second_target'])\n",
    "    print(v['alg'])\n",
    "    print()"
   ]
  },
  {
   "cell_type": "code",
   "execution_count": 43,
   "id": "23b194e7-04aa-4615-9c14-dffd666be44f",
   "metadata": {},
   "outputs": [
    {
     "data": {
      "text/plain": [
       "\"R: R E' R', U'\""
      ]
     },
     "execution_count": 43,
     "metadata": {},
     "output_type": "execute_result"
    }
   ],
   "source": [
    "alg = \"[Ra    :  R  (1E ' 6  R    '&&   , %9 U       ']\"\n",
    "clean_alg_entry(alg)"
   ]
  },
  {
   "cell_type": "code",
   "execution_count": 68,
   "id": "5355d82e",
   "metadata": {},
   "outputs": [],
   "source": [
    "save_data(update_words())"
   ]
  },
  {
   "cell_type": "code",
   "execution_count": 69,
   "id": "0f644ea7-a99a-486e-a5ec-8f06c41b5e94",
   "metadata": {},
   "outputs": [
    {
     "name": "stdout",
     "output_type": "stream",
     "text": [
      "Arbuz\n",
      "Bat\n",
      "Cable\n",
      "Acid\n",
      "Baca\n",
      "Results to be saved:\n",
      "UB UL 0.71\n",
      "UL UB 0.92\n",
      "UR UL 1.29\n",
      "UB UR 2.81\n",
      "UL UR 3.06\n",
      "\n"
     ]
    }
   ],
   "source": [
    "run_game(5)"
   ]
  },
  {
   "cell_type": "code",
   "execution_count": null,
   "id": "61b22b1b-a3e3-4f65-a42f-a58fe6f98234",
   "metadata": {},
   "outputs": [],
   "source": []
  }
 ],
 "metadata": {
  "kernelspec": {
   "display_name": "Python 3.10.6 64-bit",
   "language": "python",
   "name": "python3"
  },
  "language_info": {
   "codemirror_mode": {
    "name": "ipython",
    "version": 3
   },
   "file_extension": ".py",
   "mimetype": "text/x-python",
   "name": "python",
   "nbconvert_exporter": "python",
   "pygments_lexer": "ipython3",
   "version": "3.11.4"
  },
  "vscode": {
   "interpreter": {
    "hash": "aee8b7b246df8f9039afb4144a1f6fd8d2ca17a180786b69acc140d282b71a49"
   }
  }
 },
 "nbformat": 4,
 "nbformat_minor": 5
}
