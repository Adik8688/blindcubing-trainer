{
 "cells": [
  {
   "cell_type": "code",
   "execution_count": 21,
   "metadata": {},
   "outputs": [
    {
     "name": "stdout",
     "output_type": "stream",
     "text": [
      "              \u001b[38;5;214mBDL\u001b[0m \u001b[38;5;214mBD \u001b[0m \u001b[38;5;214mBDR\u001b[0m               \n",
      "              \u001b[38;5;214mBL \u001b[0m \u001b[38;5;214mB  \u001b[0m \u001b[38;5;214mBR \u001b[0m               \n",
      "              \u001b[38;5;214mBUL\u001b[0m \u001b[38;5;214mBU \u001b[0m \u001b[38;5;214mBUR\u001b[0m               \n",
      "\n",
      "              \u001b[32mUBL\u001b[0m \u001b[32mUB \u001b[0m \u001b[32mUBR\u001b[0m               \n",
      "              \u001b[32mUL \u001b[0m \u001b[32mU  \u001b[0m \u001b[32mUR \u001b[0m               \n",
      "              \u001b[32mUFL\u001b[0m \u001b[32mUF \u001b[0m \u001b[32mUFR\u001b[0m               \n",
      "\n",
      "\u001b[33mLUB\u001b[0m \u001b[33mLU \u001b[0m \u001b[33mLUF\u001b[0m   \u001b[31mFUL\u001b[0m \u001b[31mFU \u001b[0m \u001b[31mFUR\u001b[0m   \u001b[37mRUF\u001b[0m \u001b[37mRU \u001b[0m \u001b[37mRUB\u001b[0m \n",
      "\u001b[33mLB \u001b[0m \u001b[33mL  \u001b[0m \u001b[33mLF \u001b[0m   \u001b[31mFL \u001b[0m \u001b[31mF  \u001b[0m \u001b[31mFR \u001b[0m   \u001b[37mRF \u001b[0m \u001b[37mR  \u001b[0m \u001b[37mRB \u001b[0m \n",
      "\u001b[33mLDB\u001b[0m \u001b[33mLD \u001b[0m \u001b[33mLDF\u001b[0m   \u001b[31mFDL\u001b[0m \u001b[31mFD \u001b[0m \u001b[31mFDR\u001b[0m   \u001b[37mRDF\u001b[0m \u001b[37mRD \u001b[0m \u001b[37mRDB\u001b[0m \n",
      "\n",
      "              \u001b[34mDFL\u001b[0m \u001b[34mDF \u001b[0m \u001b[34mDFR\u001b[0m               \n",
      "              \u001b[34mDL \u001b[0m \u001b[34mD  \u001b[0m \u001b[34mDR \u001b[0m               \n",
      "              \u001b[34mDBL\u001b[0m \u001b[34mDB \u001b[0m \u001b[34mDBR\u001b[0m               \n",
      "\n"
     ]
    }
   ],
   "source": [
    "from tools.Cube import Cube\n",
    "\n",
    "cube = Cube()\n",
    "cube.print_cube()"
   ]
  },
  {
   "cell_type": "code",
   "execution_count": 22,
   "metadata": {},
   "outputs": [],
   "source": [
    "from tools.Solver import Solver\n",
    "\n",
    "solver = Solver(cube)\n",
    "scramble = \"B2 D2 L B2 F2 D2 F2 L' B2 L D2 F2 U B' F2 R2 U R2 B' D2 Rw' Uw'\"\n",
    " \n",
    "solver.scramble(scramble)\n",
    "solver.solve()  \n",
    "solution = solver.render_solution()"
   ]
  },
  {
   "cell_type": "code",
   "execution_count": 26,
   "metadata": {},
   "outputs": [],
   "source": [
    "import json\n",
    "import numpy as np\n",
    "import pandas as pd\n",
    "\n",
    "\n",
    "def detailed_reconstruction(reconstruction):\n",
    "    filepath = \"../Exports/export_stats.xlsx\"\n",
    "    dfs = pd.read_excel(filepath, sheet_name=None)\n",
    "\n",
    "    def get_record(sheetname, first_target, second_target):\n",
    "        df = dfs[sheetname]\n",
    "        df = df[df[\"1st target\"] == first_target]\n",
    "        df = df[df[\"2nd target\"] == second_target]\n",
    "        if df.empty:\n",
    "            return None\n",
    "        return df.iloc[0].to_dict()\n",
    "\n",
    "    output = {}\n",
    "    for piece_type, cycles in reconstruction.items():\n",
    "        for b, t1, t2 in cycles:\n",
    "            r = get_record(f\"{piece_type}_{b}\", t1, t2)\n",
    "\n",
    "            if r is None:\n",
    "                r = {'alg': \"Missing alg\"}\n",
    "\n",
    "            output[f\"{b} {t1} {t2}\"] = r\n",
    "\n",
    "    return output  \n"
   ]
  },
  {
   "cell_type": "code",
   "execution_count": 31,
   "metadata": {},
   "outputs": [
    {
     "name": "stdout",
     "output_type": "stream",
     "text": [
      "UFR BDL FUL // D2 R': F2, R D' R' D (nans)\n",
      "UFR DFR FDL // R U' R': U2, R' D R (nans)\n",
      "UFR BDR LDF // R F R': U', R' D R (nans)\n",
      "UF RF DR // U' E' R': E, R2 (0.91s)\n",
      "UF FL LD // S' U' R': E, R2 (1.21s)\n",
      "UF RB DF // Rw U': S, R2 (0.94s)\n",
      "UF BL DB // U' D' R: E', R2 (1.00s)\n",
      "UF UR  //  (0.00s)\n"
     ]
    }
   ],
   "source": [
    "reco = detailed_reconstruction(solution)\n",
    "for k, v in reco.items():\n",
    "    print(f\"{k} // {v.get('Alg', '')} ({v.get('Mean', 0):2.2f}s)\")"
   ]
  },
  {
   "cell_type": "code",
   "execution_count": null,
   "metadata": {},
   "outputs": [],
   "source": []
  }
 ],
 "metadata": {
  "kernelspec": {
   "display_name": "venv",
   "language": "python",
   "name": "python3"
  },
  "language_info": {
   "codemirror_mode": {
    "name": "ipython",
    "version": 3
   },
   "file_extension": ".py",
   "mimetype": "text/x-python",
   "name": "python",
   "nbconvert_exporter": "python",
   "pygments_lexer": "ipython3",
   "version": "3.12.3"
  }
 },
 "nbformat": 4,
 "nbformat_minor": 2
}
